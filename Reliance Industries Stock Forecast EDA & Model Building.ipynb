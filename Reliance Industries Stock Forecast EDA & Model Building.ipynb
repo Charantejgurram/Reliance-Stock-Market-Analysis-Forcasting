{
 "cells": [
  {
   "cell_type": "code",
   "execution_count": 1,
   "id": "0e13a135",
   "metadata": {
    "ExecuteTime": {
     "end_time": "2023-06-30T09:06:23.523873Z",
     "start_time": "2023-06-30T09:06:18.027800Z"
    }
   },
   "outputs": [],
   "source": [
    "# Import Basic Libraries\n",
    "import pandas as pd\n",
    "import numpy as np\n",
    "\n",
    "#Visualization Libraries\n",
    "import matplotlib.pyplot as plt\n",
    "import seaborn as sns\n",
    "import plotly.express as px\n",
    "import plotly.graph_objects as go\n",
    "\n",
    "#Importing Warnings to ignore Warnings\n",
    "import warnings\n",
    "warnings.filterwarnings('ignore')"
   ]
  },
  {
   "cell_type": "markdown",
   "id": "7e373072",
   "metadata": {},
   "source": [
    "### Importing dataset"
   ]
  },
  {
   "cell_type": "code",
   "execution_count": 2,
   "id": "a229e030",
   "metadata": {
    "ExecuteTime": {
     "end_time": "2023-06-30T09:06:23.570354Z",
     "start_time": "2023-06-30T09:06:23.528857Z"
    }
   },
   "outputs": [],
   "source": [
    "df = pd.read_csv('stock_data.csv')"
   ]
  },
  {
   "cell_type": "code",
   "execution_count": 3,
   "id": "8c8f051b",
   "metadata": {
    "ExecuteTime": {
     "end_time": "2023-06-30T09:06:23.616110Z",
     "start_time": "2023-06-30T09:06:23.575541Z"
    }
   },
   "outputs": [
    {
     "data": {
      "text/html": [
       "<div>\n",
       "<style scoped>\n",
       "    .dataframe tbody tr th:only-of-type {\n",
       "        vertical-align: middle;\n",
       "    }\n",
       "\n",
       "    .dataframe tbody tr th {\n",
       "        vertical-align: top;\n",
       "    }\n",
       "\n",
       "    .dataframe thead th {\n",
       "        text-align: right;\n",
       "    }\n",
       "</style>\n",
       "<table border=\"1\" class=\"dataframe\">\n",
       "  <thead>\n",
       "    <tr style=\"text-align: right;\">\n",
       "      <th></th>\n",
       "      <th>Date</th>\n",
       "      <th>Adj Close</th>\n",
       "      <th>Volume</th>\n",
       "    </tr>\n",
       "  </thead>\n",
       "  <tbody>\n",
       "    <tr>\n",
       "      <th>0</th>\n",
       "      <td>2000-01-03</td>\n",
       "      <td>29.684195</td>\n",
       "      <td>28802010.0</td>\n",
       "    </tr>\n",
       "    <tr>\n",
       "      <th>1</th>\n",
       "      <td>2000-01-04</td>\n",
       "      <td>32.060574</td>\n",
       "      <td>61320457.0</td>\n",
       "    </tr>\n",
       "    <tr>\n",
       "      <th>2</th>\n",
       "      <td>2000-01-05</td>\n",
       "      <td>33.316589</td>\n",
       "      <td>173426953.0</td>\n",
       "    </tr>\n",
       "    <tr>\n",
       "      <th>3</th>\n",
       "      <td>2000-01-06</td>\n",
       "      <td>34.714111</td>\n",
       "      <td>101355113.0</td>\n",
       "    </tr>\n",
       "    <tr>\n",
       "      <th>4</th>\n",
       "      <td>2000-01-07</td>\n",
       "      <td>37.096405</td>\n",
       "      <td>128426756.0</td>\n",
       "    </tr>\n",
       "  </tbody>\n",
       "</table>\n",
       "</div>"
      ],
      "text/plain": [
       "         Date  Adj Close       Volume\n",
       "0  2000-01-03  29.684195   28802010.0\n",
       "1  2000-01-04  32.060574   61320457.0\n",
       "2  2000-01-05  33.316589  173426953.0\n",
       "3  2000-01-06  34.714111  101355113.0\n",
       "4  2000-01-07  37.096405  128426756.0"
      ]
     },
     "execution_count": 3,
     "metadata": {},
     "output_type": "execute_result"
    }
   ],
   "source": [
    "df.head()"
   ]
  },
  {
   "cell_type": "code",
   "execution_count": 4,
   "id": "a58787b9",
   "metadata": {
    "ExecuteTime": {
     "end_time": "2023-06-30T09:06:23.646670Z",
     "start_time": "2023-06-30T09:06:23.623391Z"
    }
   },
   "outputs": [
    {
     "data": {
      "text/html": [
       "<div>\n",
       "<style scoped>\n",
       "    .dataframe tbody tr th:only-of-type {\n",
       "        vertical-align: middle;\n",
       "    }\n",
       "\n",
       "    .dataframe tbody tr th {\n",
       "        vertical-align: top;\n",
       "    }\n",
       "\n",
       "    .dataframe thead th {\n",
       "        text-align: right;\n",
       "    }\n",
       "</style>\n",
       "<table border=\"1\" class=\"dataframe\">\n",
       "  <thead>\n",
       "    <tr style=\"text-align: right;\">\n",
       "      <th></th>\n",
       "      <th>Date</th>\n",
       "      <th>Adj Close</th>\n",
       "      <th>Volume</th>\n",
       "    </tr>\n",
       "  </thead>\n",
       "  <tbody>\n",
       "    <tr>\n",
       "      <th>5750</th>\n",
       "      <td>2022-12-26</td>\n",
       "      <td>2524.050049</td>\n",
       "      <td>2764496.0</td>\n",
       "    </tr>\n",
       "    <tr>\n",
       "      <th>5751</th>\n",
       "      <td>2022-12-27</td>\n",
       "      <td>2544.699951</td>\n",
       "      <td>2659749.0</td>\n",
       "    </tr>\n",
       "    <tr>\n",
       "      <th>5752</th>\n",
       "      <td>2022-12-28</td>\n",
       "      <td>2544.449951</td>\n",
       "      <td>3442509.0</td>\n",
       "    </tr>\n",
       "    <tr>\n",
       "      <th>5753</th>\n",
       "      <td>2022-12-29</td>\n",
       "      <td>2543.300049</td>\n",
       "      <td>3198493.0</td>\n",
       "    </tr>\n",
       "    <tr>\n",
       "      <th>5754</th>\n",
       "      <td>2022-12-30</td>\n",
       "      <td>2547.199951</td>\n",
       "      <td>3364092.0</td>\n",
       "    </tr>\n",
       "  </tbody>\n",
       "</table>\n",
       "</div>"
      ],
      "text/plain": [
       "            Date    Adj Close     Volume\n",
       "5750  2022-12-26  2524.050049  2764496.0\n",
       "5751  2022-12-27  2544.699951  2659749.0\n",
       "5752  2022-12-28  2544.449951  3442509.0\n",
       "5753  2022-12-29  2543.300049  3198493.0\n",
       "5754  2022-12-30  2547.199951  3364092.0"
      ]
     },
     "execution_count": 4,
     "metadata": {},
     "output_type": "execute_result"
    }
   ],
   "source": [
    "df.tail() "
   ]
  },
  {
   "cell_type": "markdown",
   "id": "b6d4a22d",
   "metadata": {},
   "source": [
    "# EDA"
   ]
  },
  {
   "cell_type": "code",
   "execution_count": 5,
   "id": "c50c5068",
   "metadata": {
    "ExecuteTime": {
     "end_time": "2023-06-30T09:06:23.662261Z",
     "start_time": "2023-06-30T09:06:23.648629Z"
    }
   },
   "outputs": [
    {
     "data": {
      "text/plain": [
       "(5755, 3)"
      ]
     },
     "execution_count": 5,
     "metadata": {},
     "output_type": "execute_result"
    }
   ],
   "source": [
    "df.shape"
   ]
  },
  {
   "cell_type": "code",
   "execution_count": 6,
   "id": "b7d30ed5",
   "metadata": {
    "ExecuteTime": {
     "end_time": "2023-06-30T09:06:23.692850Z",
     "start_time": "2023-06-30T09:06:23.666277Z"
    }
   },
   "outputs": [
    {
     "name": "stdout",
     "output_type": "stream",
     "text": [
      "<class 'pandas.core.frame.DataFrame'>\n",
      "RangeIndex: 5755 entries, 0 to 5754\n",
      "Data columns (total 3 columns):\n",
      " #   Column     Non-Null Count  Dtype  \n",
      "---  ------     --------------  -----  \n",
      " 0   Date       5755 non-null   object \n",
      " 1   Adj Close  5745 non-null   float64\n",
      " 2   Volume     5745 non-null   float64\n",
      "dtypes: float64(2), object(1)\n",
      "memory usage: 135.0+ KB\n"
     ]
    }
   ],
   "source": [
    "df.info()"
   ]
  },
  {
   "cell_type": "code",
   "execution_count": 7,
   "id": "12a39dee",
   "metadata": {
    "ExecuteTime": {
     "end_time": "2023-06-30T09:06:23.723781Z",
     "start_time": "2023-06-30T09:06:23.695281Z"
    }
   },
   "outputs": [
    {
     "name": "stdout",
     "output_type": "stream",
     "text": [
      "<class 'pandas.core.frame.DataFrame'>\n",
      "RangeIndex: 5755 entries, 0 to 5754\n",
      "Data columns (total 3 columns):\n",
      " #   Column     Non-Null Count  Dtype         \n",
      "---  ------     --------------  -----         \n",
      " 0   Date       5755 non-null   datetime64[ns]\n",
      " 1   Adj Close  5745 non-null   float64       \n",
      " 2   Volume     5745 non-null   float64       \n",
      "dtypes: datetime64[ns](1), float64(2)\n",
      "memory usage: 135.0 KB\n"
     ]
    }
   ],
   "source": [
    "df['Date']=pd.to_datetime(df['Date'])# Changing Date datatype from object todatetime\n",
    "df.info()"
   ]
  },
  {
   "cell_type": "code",
   "execution_count": 8,
   "id": "61db9842",
   "metadata": {
    "ExecuteTime": {
     "end_time": "2023-06-30T09:06:23.770952Z",
     "start_time": "2023-06-30T09:06:23.727772Z"
    }
   },
   "outputs": [
    {
     "data": {
      "text/html": [
       "<div>\n",
       "<style scoped>\n",
       "    .dataframe tbody tr th:only-of-type {\n",
       "        vertical-align: middle;\n",
       "    }\n",
       "\n",
       "    .dataframe tbody tr th {\n",
       "        vertical-align: top;\n",
       "    }\n",
       "\n",
       "    .dataframe thead th {\n",
       "        text-align: right;\n",
       "    }\n",
       "</style>\n",
       "<table border=\"1\" class=\"dataframe\">\n",
       "  <thead>\n",
       "    <tr style=\"text-align: right;\">\n",
       "      <th></th>\n",
       "      <th>count</th>\n",
       "      <th>mean</th>\n",
       "      <th>std</th>\n",
       "      <th>min</th>\n",
       "      <th>25%</th>\n",
       "      <th>50%</th>\n",
       "      <th>75%</th>\n",
       "      <th>max</th>\n",
       "    </tr>\n",
       "  </thead>\n",
       "  <tbody>\n",
       "    <tr>\n",
       "      <th>Adj Close</th>\n",
       "      <td>5745.0</td>\n",
       "      <td>6.155926e+02</td>\n",
       "      <td>6.821515e+02</td>\n",
       "      <td>23.964355</td>\n",
       "      <td>8.911565e+01</td>\n",
       "      <td>4.184002e+02</td>\n",
       "      <td>6.380904e+02</td>\n",
       "      <td>2.811386e+03</td>\n",
       "    </tr>\n",
       "    <tr>\n",
       "      <th>Volume</th>\n",
       "      <td>5745.0</td>\n",
       "      <td>1.681692e+07</td>\n",
       "      <td>1.809928e+07</td>\n",
       "      <td>0.000000</td>\n",
       "      <td>6.334809e+06</td>\n",
       "      <td>1.016516e+07</td>\n",
       "      <td>2.036854e+07</td>\n",
       "      <td>2.918015e+08</td>\n",
       "    </tr>\n",
       "  </tbody>\n",
       "</table>\n",
       "</div>"
      ],
      "text/plain": [
       "            count          mean           std        min           25%  \\\n",
       "Adj Close  5745.0  6.155926e+02  6.821515e+02  23.964355  8.911565e+01   \n",
       "Volume     5745.0  1.681692e+07  1.809928e+07   0.000000  6.334809e+06   \n",
       "\n",
       "                    50%           75%           max  \n",
       "Adj Close  4.184002e+02  6.380904e+02  2.811386e+03  \n",
       "Volume     1.016516e+07  2.036854e+07  2.918015e+08  "
      ]
     },
     "execution_count": 8,
     "metadata": {},
     "output_type": "execute_result"
    }
   ],
   "source": [
    "df.describe().T"
   ]
  },
  {
   "cell_type": "code",
   "execution_count": 9,
   "id": "240f41c1",
   "metadata": {
    "ExecuteTime": {
     "end_time": "2023-06-30T09:06:23.801722Z",
     "start_time": "2023-06-30T09:06:23.774544Z"
    }
   },
   "outputs": [
    {
     "data": {
      "text/html": [
       "<div>\n",
       "<style scoped>\n",
       "    .dataframe tbody tr th:only-of-type {\n",
       "        vertical-align: middle;\n",
       "    }\n",
       "\n",
       "    .dataframe tbody tr th {\n",
       "        vertical-align: top;\n",
       "    }\n",
       "\n",
       "    .dataframe thead th {\n",
       "        text-align: right;\n",
       "    }\n",
       "</style>\n",
       "<table border=\"1\" class=\"dataframe\">\n",
       "  <thead>\n",
       "    <tr style=\"text-align: right;\">\n",
       "      <th></th>\n",
       "      <th>Date</th>\n",
       "      <th>Adj_Close</th>\n",
       "      <th>Volume</th>\n",
       "    </tr>\n",
       "  </thead>\n",
       "  <tbody>\n",
       "    <tr>\n",
       "      <th>0</th>\n",
       "      <td>2000-01-03</td>\n",
       "      <td>29.684195</td>\n",
       "      <td>28802010.0</td>\n",
       "    </tr>\n",
       "    <tr>\n",
       "      <th>1</th>\n",
       "      <td>2000-01-04</td>\n",
       "      <td>32.060574</td>\n",
       "      <td>61320457.0</td>\n",
       "    </tr>\n",
       "    <tr>\n",
       "      <th>2</th>\n",
       "      <td>2000-01-05</td>\n",
       "      <td>33.316589</td>\n",
       "      <td>173426953.0</td>\n",
       "    </tr>\n",
       "    <tr>\n",
       "      <th>3</th>\n",
       "      <td>2000-01-06</td>\n",
       "      <td>34.714111</td>\n",
       "      <td>101355113.0</td>\n",
       "    </tr>\n",
       "    <tr>\n",
       "      <th>4</th>\n",
       "      <td>2000-01-07</td>\n",
       "      <td>37.096405</td>\n",
       "      <td>128426756.0</td>\n",
       "    </tr>\n",
       "    <tr>\n",
       "      <th>...</th>\n",
       "      <td>...</td>\n",
       "      <td>...</td>\n",
       "      <td>...</td>\n",
       "    </tr>\n",
       "    <tr>\n",
       "      <th>5750</th>\n",
       "      <td>2022-12-26</td>\n",
       "      <td>2524.050049</td>\n",
       "      <td>2764496.0</td>\n",
       "    </tr>\n",
       "    <tr>\n",
       "      <th>5751</th>\n",
       "      <td>2022-12-27</td>\n",
       "      <td>2544.699951</td>\n",
       "      <td>2659749.0</td>\n",
       "    </tr>\n",
       "    <tr>\n",
       "      <th>5752</th>\n",
       "      <td>2022-12-28</td>\n",
       "      <td>2544.449951</td>\n",
       "      <td>3442509.0</td>\n",
       "    </tr>\n",
       "    <tr>\n",
       "      <th>5753</th>\n",
       "      <td>2022-12-29</td>\n",
       "      <td>2543.300049</td>\n",
       "      <td>3198493.0</td>\n",
       "    </tr>\n",
       "    <tr>\n",
       "      <th>5754</th>\n",
       "      <td>2022-12-30</td>\n",
       "      <td>2547.199951</td>\n",
       "      <td>3364092.0</td>\n",
       "    </tr>\n",
       "  </tbody>\n",
       "</table>\n",
       "<p>5755 rows × 3 columns</p>\n",
       "</div>"
      ],
      "text/plain": [
       "           Date    Adj_Close       Volume\n",
       "0    2000-01-03    29.684195   28802010.0\n",
       "1    2000-01-04    32.060574   61320457.0\n",
       "2    2000-01-05    33.316589  173426953.0\n",
       "3    2000-01-06    34.714111  101355113.0\n",
       "4    2000-01-07    37.096405  128426756.0\n",
       "...         ...          ...          ...\n",
       "5750 2022-12-26  2524.050049    2764496.0\n",
       "5751 2022-12-27  2544.699951    2659749.0\n",
       "5752 2022-12-28  2544.449951    3442509.0\n",
       "5753 2022-12-29  2543.300049    3198493.0\n",
       "5754 2022-12-30  2547.199951    3364092.0\n",
       "\n",
       "[5755 rows x 3 columns]"
      ]
     },
     "execution_count": 9,
     "metadata": {},
     "output_type": "execute_result"
    }
   ],
   "source": [
    "df=df.rename(columns = {'Adj Close':'Adj_Close'})#renaming the column\n",
    "df"
   ]
  },
  {
   "cell_type": "markdown",
   "id": "d8a97c95",
   "metadata": {},
   "source": [
    "### Checking For Duplicate & Missing Values"
   ]
  },
  {
   "cell_type": "code",
   "execution_count": 10,
   "id": "ef9641b5",
   "metadata": {
    "ExecuteTime": {
     "end_time": "2023-06-30T09:06:23.832866Z",
     "start_time": "2023-06-30T09:06:23.812746Z"
    }
   },
   "outputs": [
    {
     "data": {
      "text/plain": [
       "0"
      ]
     },
     "execution_count": 10,
     "metadata": {},
     "output_type": "execute_result"
    }
   ],
   "source": [
    "df.duplicated().sum()"
   ]
  },
  {
   "cell_type": "code",
   "execution_count": 11,
   "id": "054dcd15",
   "metadata": {
    "ExecuteTime": {
     "end_time": "2023-06-30T09:06:23.863341Z",
     "start_time": "2023-06-30T09:06:23.835382Z"
    }
   },
   "outputs": [
    {
     "data": {
      "text/plain": [
       "Date          0\n",
       "Adj_Close    10\n",
       "Volume       10\n",
       "dtype: int64"
      ]
     },
     "execution_count": 11,
     "metadata": {},
     "output_type": "execute_result"
    }
   ],
   "source": [
    "df.isnull().sum()"
   ]
  },
  {
   "cell_type": "markdown",
   "id": "1f8c2893",
   "metadata": {},
   "source": [
    "### Filling Null values "
   ]
  },
  {
   "cell_type": "code",
   "execution_count": 12,
   "id": "3cbad14a",
   "metadata": {
    "ExecuteTime": {
     "end_time": "2023-06-30T09:06:23.909484Z",
     "start_time": "2023-06-30T09:06:23.866868Z"
    }
   },
   "outputs": [
    {
     "data": {
      "text/html": [
       "<div>\n",
       "<style scoped>\n",
       "    .dataframe tbody tr th:only-of-type {\n",
       "        vertical-align: middle;\n",
       "    }\n",
       "\n",
       "    .dataframe tbody tr th {\n",
       "        vertical-align: top;\n",
       "    }\n",
       "\n",
       "    .dataframe thead th {\n",
       "        text-align: right;\n",
       "    }\n",
       "</style>\n",
       "<table border=\"1\" class=\"dataframe\">\n",
       "  <thead>\n",
       "    <tr style=\"text-align: right;\">\n",
       "      <th></th>\n",
       "      <th>Date</th>\n",
       "      <th>Adj_Close</th>\n",
       "      <th>Volume</th>\n",
       "    </tr>\n",
       "  </thead>\n",
       "  <tbody>\n",
       "    <tr>\n",
       "      <th>0</th>\n",
       "      <td>2000-01-03</td>\n",
       "      <td>29.684195</td>\n",
       "      <td>28802010.0</td>\n",
       "    </tr>\n",
       "    <tr>\n",
       "      <th>1</th>\n",
       "      <td>2000-01-04</td>\n",
       "      <td>32.060574</td>\n",
       "      <td>61320457.0</td>\n",
       "    </tr>\n",
       "    <tr>\n",
       "      <th>2</th>\n",
       "      <td>2000-01-05</td>\n",
       "      <td>33.316589</td>\n",
       "      <td>173426953.0</td>\n",
       "    </tr>\n",
       "    <tr>\n",
       "      <th>3</th>\n",
       "      <td>2000-01-06</td>\n",
       "      <td>34.714111</td>\n",
       "      <td>101355113.0</td>\n",
       "    </tr>\n",
       "    <tr>\n",
       "      <th>4</th>\n",
       "      <td>2000-01-07</td>\n",
       "      <td>37.096405</td>\n",
       "      <td>128426756.0</td>\n",
       "    </tr>\n",
       "    <tr>\n",
       "      <th>...</th>\n",
       "      <td>...</td>\n",
       "      <td>...</td>\n",
       "      <td>...</td>\n",
       "    </tr>\n",
       "    <tr>\n",
       "      <th>5750</th>\n",
       "      <td>2022-12-26</td>\n",
       "      <td>2524.050049</td>\n",
       "      <td>2764496.0</td>\n",
       "    </tr>\n",
       "    <tr>\n",
       "      <th>5751</th>\n",
       "      <td>2022-12-27</td>\n",
       "      <td>2544.699951</td>\n",
       "      <td>2659749.0</td>\n",
       "    </tr>\n",
       "    <tr>\n",
       "      <th>5752</th>\n",
       "      <td>2022-12-28</td>\n",
       "      <td>2544.449951</td>\n",
       "      <td>3442509.0</td>\n",
       "    </tr>\n",
       "    <tr>\n",
       "      <th>5753</th>\n",
       "      <td>2022-12-29</td>\n",
       "      <td>2543.300049</td>\n",
       "      <td>3198493.0</td>\n",
       "    </tr>\n",
       "    <tr>\n",
       "      <th>5754</th>\n",
       "      <td>2022-12-30</td>\n",
       "      <td>2547.199951</td>\n",
       "      <td>3364092.0</td>\n",
       "    </tr>\n",
       "  </tbody>\n",
       "</table>\n",
       "<p>5755 rows × 3 columns</p>\n",
       "</div>"
      ],
      "text/plain": [
       "           Date    Adj_Close       Volume\n",
       "0    2000-01-03    29.684195   28802010.0\n",
       "1    2000-01-04    32.060574   61320457.0\n",
       "2    2000-01-05    33.316589  173426953.0\n",
       "3    2000-01-06    34.714111  101355113.0\n",
       "4    2000-01-07    37.096405  128426756.0\n",
       "...         ...          ...          ...\n",
       "5750 2022-12-26  2524.050049    2764496.0\n",
       "5751 2022-12-27  2544.699951    2659749.0\n",
       "5752 2022-12-28  2544.449951    3442509.0\n",
       "5753 2022-12-29  2543.300049    3198493.0\n",
       "5754 2022-12-30  2547.199951    3364092.0\n",
       "\n",
       "[5755 rows x 3 columns]"
      ]
     },
     "execution_count": 12,
     "metadata": {},
     "output_type": "execute_result"
    }
   ],
   "source": [
    "df=df.fillna(df.mean()) #filled null values with their column mean value\n",
    "df"
   ]
  },
  {
   "cell_type": "code",
   "execution_count": 13,
   "id": "637ae0e3",
   "metadata": {
    "ExecuteTime": {
     "end_time": "2023-06-30T09:06:23.925109Z",
     "start_time": "2023-06-30T09:06:23.913145Z"
    }
   },
   "outputs": [
    {
     "name": "stdout",
     "output_type": "stream",
     "text": [
      "Date         0\n",
      "Adj_Close    0\n",
      "Volume       0\n",
      "dtype: int64\n"
     ]
    }
   ],
   "source": [
    "print(df.isnull().sum())"
   ]
  },
  {
   "cell_type": "markdown",
   "id": "6542fccd",
   "metadata": {},
   "source": [
    "### Extracting Year,Quarter,Month,Week & Day from Date Column "
   ]
  },
  {
   "cell_type": "code",
   "execution_count": 14,
   "id": "a5d7f1ef",
   "metadata": {
    "ExecuteTime": {
     "end_time": "2023-06-30T09:06:23.987833Z",
     "start_time": "2023-06-30T09:06:23.927104Z"
    }
   },
   "outputs": [
    {
     "data": {
      "text/html": [
       "<div>\n",
       "<style scoped>\n",
       "    .dataframe tbody tr th:only-of-type {\n",
       "        vertical-align: middle;\n",
       "    }\n",
       "\n",
       "    .dataframe tbody tr th {\n",
       "        vertical-align: top;\n",
       "    }\n",
       "\n",
       "    .dataframe thead th {\n",
       "        text-align: right;\n",
       "    }\n",
       "</style>\n",
       "<table border=\"1\" class=\"dataframe\">\n",
       "  <thead>\n",
       "    <tr style=\"text-align: right;\">\n",
       "      <th></th>\n",
       "      <th>Date</th>\n",
       "      <th>Adj_Close</th>\n",
       "      <th>Volume</th>\n",
       "      <th>year</th>\n",
       "      <th>quarter</th>\n",
       "      <th>month</th>\n",
       "      <th>week</th>\n",
       "      <th>day</th>\n",
       "    </tr>\n",
       "  </thead>\n",
       "  <tbody>\n",
       "    <tr>\n",
       "      <th>0</th>\n",
       "      <td>2000-01-03</td>\n",
       "      <td>29.684195</td>\n",
       "      <td>28802010.0</td>\n",
       "      <td>2000</td>\n",
       "      <td>1</td>\n",
       "      <td>1</td>\n",
       "      <td>1</td>\n",
       "      <td>3</td>\n",
       "    </tr>\n",
       "    <tr>\n",
       "      <th>1</th>\n",
       "      <td>2000-01-04</td>\n",
       "      <td>32.060574</td>\n",
       "      <td>61320457.0</td>\n",
       "      <td>2000</td>\n",
       "      <td>1</td>\n",
       "      <td>1</td>\n",
       "      <td>1</td>\n",
       "      <td>4</td>\n",
       "    </tr>\n",
       "    <tr>\n",
       "      <th>2</th>\n",
       "      <td>2000-01-05</td>\n",
       "      <td>33.316589</td>\n",
       "      <td>173426953.0</td>\n",
       "      <td>2000</td>\n",
       "      <td>1</td>\n",
       "      <td>1</td>\n",
       "      <td>1</td>\n",
       "      <td>5</td>\n",
       "    </tr>\n",
       "    <tr>\n",
       "      <th>3</th>\n",
       "      <td>2000-01-06</td>\n",
       "      <td>34.714111</td>\n",
       "      <td>101355113.0</td>\n",
       "      <td>2000</td>\n",
       "      <td>1</td>\n",
       "      <td>1</td>\n",
       "      <td>1</td>\n",
       "      <td>6</td>\n",
       "    </tr>\n",
       "    <tr>\n",
       "      <th>4</th>\n",
       "      <td>2000-01-07</td>\n",
       "      <td>37.096405</td>\n",
       "      <td>128426756.0</td>\n",
       "      <td>2000</td>\n",
       "      <td>1</td>\n",
       "      <td>1</td>\n",
       "      <td>1</td>\n",
       "      <td>7</td>\n",
       "    </tr>\n",
       "    <tr>\n",
       "      <th>...</th>\n",
       "      <td>...</td>\n",
       "      <td>...</td>\n",
       "      <td>...</td>\n",
       "      <td>...</td>\n",
       "      <td>...</td>\n",
       "      <td>...</td>\n",
       "      <td>...</td>\n",
       "      <td>...</td>\n",
       "    </tr>\n",
       "    <tr>\n",
       "      <th>5750</th>\n",
       "      <td>2022-12-26</td>\n",
       "      <td>2524.050049</td>\n",
       "      <td>2764496.0</td>\n",
       "      <td>2022</td>\n",
       "      <td>4</td>\n",
       "      <td>12</td>\n",
       "      <td>52</td>\n",
       "      <td>26</td>\n",
       "    </tr>\n",
       "    <tr>\n",
       "      <th>5751</th>\n",
       "      <td>2022-12-27</td>\n",
       "      <td>2544.699951</td>\n",
       "      <td>2659749.0</td>\n",
       "      <td>2022</td>\n",
       "      <td>4</td>\n",
       "      <td>12</td>\n",
       "      <td>52</td>\n",
       "      <td>27</td>\n",
       "    </tr>\n",
       "    <tr>\n",
       "      <th>5752</th>\n",
       "      <td>2022-12-28</td>\n",
       "      <td>2544.449951</td>\n",
       "      <td>3442509.0</td>\n",
       "      <td>2022</td>\n",
       "      <td>4</td>\n",
       "      <td>12</td>\n",
       "      <td>52</td>\n",
       "      <td>28</td>\n",
       "    </tr>\n",
       "    <tr>\n",
       "      <th>5753</th>\n",
       "      <td>2022-12-29</td>\n",
       "      <td>2543.300049</td>\n",
       "      <td>3198493.0</td>\n",
       "      <td>2022</td>\n",
       "      <td>4</td>\n",
       "      <td>12</td>\n",
       "      <td>52</td>\n",
       "      <td>29</td>\n",
       "    </tr>\n",
       "    <tr>\n",
       "      <th>5754</th>\n",
       "      <td>2022-12-30</td>\n",
       "      <td>2547.199951</td>\n",
       "      <td>3364092.0</td>\n",
       "      <td>2022</td>\n",
       "      <td>4</td>\n",
       "      <td>12</td>\n",
       "      <td>52</td>\n",
       "      <td>30</td>\n",
       "    </tr>\n",
       "  </tbody>\n",
       "</table>\n",
       "<p>5755 rows × 8 columns</p>\n",
       "</div>"
      ],
      "text/plain": [
       "           Date    Adj_Close       Volume  year  quarter  month  week  day\n",
       "0    2000-01-03    29.684195   28802010.0  2000        1      1     1    3\n",
       "1    2000-01-04    32.060574   61320457.0  2000        1      1     1    4\n",
       "2    2000-01-05    33.316589  173426953.0  2000        1      1     1    5\n",
       "3    2000-01-06    34.714111  101355113.0  2000        1      1     1    6\n",
       "4    2000-01-07    37.096405  128426756.0  2000        1      1     1    7\n",
       "...         ...          ...          ...   ...      ...    ...   ...  ...\n",
       "5750 2022-12-26  2524.050049    2764496.0  2022        4     12    52   26\n",
       "5751 2022-12-27  2544.699951    2659749.0  2022        4     12    52   27\n",
       "5752 2022-12-28  2544.449951    3442509.0  2022        4     12    52   28\n",
       "5753 2022-12-29  2543.300049    3198493.0  2022        4     12    52   29\n",
       "5754 2022-12-30  2547.199951    3364092.0  2022        4     12    52   30\n",
       "\n",
       "[5755 rows x 8 columns]"
      ]
     },
     "execution_count": 14,
     "metadata": {},
     "output_type": "execute_result"
    }
   ],
   "source": [
    "df.Date = pd.to_datetime(df.Date, format=\"%Y-%m-%d\")\n",
    "df[\"year\"]=df.Date.dt.year\n",
    "df['quarter'] = df.Date.dt.quarter #pd.PeriodIndex(df.Date, freq='Q')\n",
    "df[\"month\"] = df.Date.dt.month\n",
    "df[\"week\"] = df.Date.dt.week\n",
    "df[\"day\"] = df.Date.dt.day\n",
    "df"
   ]
  },
  {
   "cell_type": "markdown",
   "id": "f2fa9124",
   "metadata": {},
   "source": [
    "## Correlation analysis"
   ]
  },
  {
   "cell_type": "code",
   "execution_count": 15,
   "id": "02311bc6",
   "metadata": {
    "ExecuteTime": {
     "end_time": "2023-06-30T09:06:24.002826Z",
     "start_time": "2023-06-30T09:06:23.990850Z"
    }
   },
   "outputs": [
    {
     "name": "stdout",
     "output_type": "stream",
     "text": [
      "Correlation Coefficient: -0.317065069709511\n"
     ]
    }
   ],
   "source": [
    "correlation = df['Volume'].corr(df['Adj_Close'])\n",
    "print('Correlation Coefficient:', correlation)"
   ]
  },
  {
   "cell_type": "markdown",
   "id": "1a4b729a",
   "metadata": {},
   "source": [
    "we can observe both volume and Adj_close attributes are -vely correlated to each other"
   ]
  },
  {
   "cell_type": "markdown",
   "id": "945a166e",
   "metadata": {},
   "source": [
    "### Heatmap for Correlation Analysis"
   ]
  },
  {
   "cell_type": "code",
   "execution_count": 16,
   "id": "5f6e1f2b",
   "metadata": {
    "ExecuteTime": {
     "end_time": "2023-06-30T09:06:24.981791Z",
     "start_time": "2023-06-30T09:06:24.005786Z"
    }
   },
   "outputs": [
    {
     "data": {
      "image/png": "[encoded data removed]",
      "text/plain": [
       "<Figure size 720x576 with 2 Axes>"
      ]
     },
     "metadata": {
      "needs_background": "light"
     },
     "output_type": "display_data"
    }
   ],
   "source": [
    "#Heatmap for Entire Data\n",
    "correlation_matrix = df.corr()\n",
    "plt.figure(figsize=(10, 8))\n",
    "sns.heatmap(correlation_matrix, annot=True, cmap='jet')\n",
    "plt.title('Correlation Matrix')\n",
    "plt.show()"
   ]
  },
  {
   "cell_type": "code",
   "execution_count": 17,
   "id": "6010b2d4",
   "metadata": {
    "ExecuteTime": {
     "end_time": "2023-06-30T09:06:27.983135Z",
     "start_time": "2023-06-30T09:06:24.984430Z"
    }
   },
   "outputs": [
    {
     "data": {
      "text/plain": [
       "<AxesSubplot:xlabel='month', ylabel='year'>"
      ]
     },
     "execution_count": 17,
     "metadata": {},
     "output_type": "execute_result"
    },
    {
     "data": {
      "image/png": "[encoded data removed]",
      "text/plain": [
       "<Figure size 1080x720 with 2 Axes>"
      ]
     },
     "metadata": {
      "needs_background": "light"
     },
     "output_type": "display_data"
    }
   ],
   "source": [
    "plt.figure(figsize=(15,10))\n",
    "heatmap_y_month = pd.pivot_table(data=df,values=\"Adj_Close\",index=\"year\",columns=\"month\",aggfunc=\"mean\",fill_value=0)\n",
    "#creating a pivot table with index as year, columns as month, values as Adj_Close,aggfunc as mean(this belongs to pivot table ie parameter of pvt tble)\n",
    "heatmap_y_month\n",
    "sns.heatmap(heatmap_y_month,annot=True,fmt=\"g\",cmap='rainbow') "
   ]
  },
  {
   "cell_type": "markdown",
   "id": "d630dc1c",
   "metadata": {},
   "source": [
    "## Visualization"
   ]
  },
  {
   "cell_type": "markdown",
   "id": "775ae1ee",
   "metadata": {},
   "source": [
    "### Box & Whisker plot"
   ]
  },
  {
   "cell_type": "code",
   "execution_count": 18,
   "id": "c1071c27",
   "metadata": {
    "ExecuteTime": {
     "end_time": "2023-06-30T09:06:29.609461Z",
     "start_time": "2023-06-30T09:06:27.987698Z"
    }
   },
   "outputs": [
    {
     "data": {
      "text/plain": [
       "<AxesSubplot:title={'center':'Yearly Adj Closing Price'}, xlabel='year', ylabel='Adj_Close'>"
      ]
     },
     "execution_count": 18,
     "metadata": {},
     "output_type": "execute_result"
    },
    {
     "data": {
      "image/png": "[encoded data removed]",
      "text/plain": [
       "<Figure size 1080x720 with 2 Axes>"
      ]
     },
     "metadata": {
      "needs_background": "light"
     },
     "output_type": "display_data"
    }
   ],
   "source": [
    "plt.figure(figsize=(15,10))\n",
    "plt.subplot(211)\n",
    "plt.title(\"Montly Adj Closing Price\")\n",
    "sns.boxplot(x=\"month\",y=\"Adj_Close\",data=df)\n",
    "plt.subplot(212)\n",
    "plt.title(\"Yearly Adj Closing Price\")\n",
    "sns.boxplot(x=\"year\",y=\"Adj_Close\",data=df)"
   ]
  },
  {
   "cell_type": "markdown",
   "id": "e2b26da8",
   "metadata": {},
   "source": [
    "### Line Plot"
   ]
  },
  {
   "cell_type": "code",
   "execution_count": 19,
   "id": "f88eb2a3",
   "metadata": {
    "ExecuteTime": {
     "end_time": "2023-06-30T09:06:29.934131Z",
     "start_time": "2023-06-30T09:06:29.611696Z"
    },
    "scrolled": true
   },
   "outputs": [
    {
     "data": {
      "image/png": "[encoded data removed]",
      "text/plain": [
       "<Figure size 1080x288 with 1 Axes>"
      ]
     },
     "metadata": {
      "needs_background": "light"
     },
     "output_type": "display_data"
    }
   ],
   "source": [
    "# Lineplot for Closing Stock value\n",
    "plt.figure(figsize=(15,4))\n",
    "plt.ylabel(\"Closing Stock Value of Reliance Industries\")\n",
    "plt.plot(df['Adj_Close'], linewidth=2,color='green')\n",
    "plt.show()"
   ]
  },
  {
   "cell_type": "code",
   "execution_count": 20,
   "id": "1035b247",
   "metadata": {
    "ExecuteTime": {
     "end_time": "2023-06-30T09:06:31.801992Z",
     "start_time": "2023-06-30T09:06:29.939559Z"
    }
   },
   "outputs": [
    {
     "data": {
      "text/plain": [
       "<AxesSubplot:xlabel='year', ylabel='Adj_Close'>"
      ]
     },
     "execution_count": 20,
     "metadata": {},
     "output_type": "execute_result"
    },
    {
     "data": {
      "image/png": "[encoded data removed]",
      "text/plain": [
       "<Figure size 864x216 with 1 Axes>"
      ]
     },
     "metadata": {
      "needs_background": "light"
     },
     "output_type": "display_data"
    }
   ],
   "source": [
    "plt.figure(figsize=(12,3))\n",
    "sns.lineplot(x=\"year\",y=\"Adj_Close\",data=df,color='green') #yearly closing value"
   ]
  },
  {
   "cell_type": "code",
   "execution_count": 21,
   "id": "48675ac6",
   "metadata": {
    "ExecuteTime": {
     "end_time": "2023-06-30T09:06:32.941422Z",
     "start_time": "2023-06-30T09:06:31.804984Z"
    }
   },
   "outputs": [
    {
     "data": {
      "text/plain": [
       "<AxesSubplot:xlabel='month', ylabel='Adj_Close'>"
      ]
     },
     "execution_count": 21,
     "metadata": {},
     "output_type": "execute_result"
    },
    {
     "data": {
      "image/png": "[encoded data removed]",
      "text/plain": [
       "<Figure size 864x216 with 1 Axes>"
      ]
     },
     "metadata": {
      "needs_background": "light"
     },
     "output_type": "display_data"
    }
   ],
   "source": [
    "plt.figure(figsize=(12,3))\n",
    "sns.lineplot(x=\"month\",y=\"Adj_Close\",data=df,color='green') #monthly closing value"
   ]
  },
  {
   "cell_type": "markdown",
   "id": "9220c501",
   "metadata": {},
   "source": [
    "### Q-Q plot of Adj_Close\n",
    "used to determine whether dataset is distributed a certain way"
   ]
  },
  {
   "cell_type": "code",
   "execution_count": 22,
   "id": "fc541eda",
   "metadata": {
    "ExecuteTime": {
     "end_time": "2023-06-30T09:06:33.378064Z",
     "start_time": "2023-06-30T09:06:32.945353Z"
    }
   },
   "outputs": [
    {
     "data": {
      "image/png": "[encoded data removed]",
      "text/plain": [
       "<Figure size 432x288 with 1 Axes>"
      ]
     },
     "metadata": {
      "needs_background": "light"
     },
     "output_type": "display_data"
    }
   ],
   "source": [
    "import scipy.stats\n",
    "import pylab\n",
    "scipy.stats.probplot(df.Adj_Close,plot=pylab)\n",
    "pylab.show()"
   ]
  },
  {
   "cell_type": "markdown",
   "id": "6c8365ad",
   "metadata": {},
   "source": [
    "### Histogram\n"
   ]
  },
  {
   "cell_type": "code",
   "execution_count": 23,
   "id": "035ce541",
   "metadata": {
    "ExecuteTime": {
     "end_time": "2023-06-30T09:06:34.050408Z",
     "start_time": "2023-06-30T09:06:33.380059Z"
    },
    "scrolled": true
   },
   "outputs": [
    {
     "data": {
      "image/png": "[encoded data removed]",
      "text/plain": [
       "<Figure size 1080x360 with 2 Axes>"
      ]
     },
     "metadata": {
      "needs_background": "light"
     },
     "output_type": "display_data"
    }
   ],
   "source": [
    "plt.subplot(1,2,1)\n",
    "df['Adj_Close'].hist(figsize=(15,5),color='green')\n",
    "plt.title('A Histogram of Adj Closing Values of Reliance Stock Data')\n",
    "plt.subplot(1,2,2)\n",
    "df['Volume'].hist(figsize=(15,5),color='green')\n",
    "plt.title('A Histogram of Volume of Reliance Stock Data')\n",
    "plt.show()"
   ]
  },
  {
   "cell_type": "raw",
   "id": "1e8e40c0",
   "metadata": {},
   "source": [
    "The Data is positively Skewed"
   ]
  },
  {
   "cell_type": "markdown",
   "id": "413d7b67",
   "metadata": {},
   "source": [
    "### Density Plot\n"
   ]
  },
  {
   "cell_type": "code",
   "execution_count": 24,
   "id": "7e16e899",
   "metadata": {
    "ExecuteTime": {
     "end_time": "2023-06-30T09:06:35.449244Z",
     "start_time": "2023-06-30T09:06:34.055392Z"
    },
    "scrolled": true
   },
   "outputs": [
    {
     "data": {
      "image/png": "[encoded data removed]",
      "text/plain": [
       "<Figure size 1080x288 with 2 Axes>"
      ]
     },
     "metadata": {
      "needs_background": "light"
     },
     "output_type": "display_data"
    }
   ],
   "source": [
    "plt.figure(figsize=(15,4))\n",
    "plt.subplot(1,2,1)\n",
    "df.Adj_Close.plot.density(color='green')\n",
    "plt.title('Density Plot for Adj Close Value')\n",
    "plt.subplot(1,2,2)\n",
    "df.Volume.plot.density(color='green')\n",
    "plt.title('Density Plot for Volume')\n",
    "plt.show()"
   ]
  },
  {
   "cell_type": "markdown",
   "id": "219609d3",
   "metadata": {},
   "source": [
    "### Lag Plots "
   ]
  },
  {
   "cell_type": "code",
   "execution_count": 25,
   "id": "0efe4170",
   "metadata": {
    "ExecuteTime": {
     "end_time": "2023-06-30T09:06:35.744578Z",
     "start_time": "2023-06-30T09:06:35.454238Z"
    }
   },
   "outputs": [
    {
     "data": {
      "image/png": "[encoded data removed]",
      "text/plain": [
       "<Figure size 432x288 with 1 Axes>"
      ]
     },
     "metadata": {
      "needs_background": "light"
     },
     "output_type": "display_data"
    }
   ],
   "source": [
    "from pandas.plotting import lag_plot\n",
    "\n",
    "lag_plot(df['Adj_Close'])\n",
    "plt.show()\n",
    "#Strongly linearly correlated"
   ]
  },
  {
   "cell_type": "markdown",
   "id": "eb69fdfe",
   "metadata": {},
   "source": [
    "###  ACF plots and PACF plots"
   ]
  },
  {
   "cell_type": "code",
   "execution_count": 26,
   "id": "2b7fe425",
   "metadata": {
    "ExecuteTime": {
     "end_time": "2023-06-30T09:06:36.771211Z",
     "start_time": "2023-06-30T09:06:35.748504Z"
    }
   },
   "outputs": [
    {
     "data": {
      "image/png": "[encoded data removed]",
      "text/plain": [
       "<Figure size 432x288 with 1 Axes>"
      ]
     },
     "metadata": {
      "needs_background": "light"
     },
     "output_type": "display_data"
    },
    {
     "data": {
      "image/png": "[encoded data removed]",
      "text/plain": [
       "<Figure size 432x288 with 1 Axes>"
      ]
     },
     "metadata": {
      "needs_background": "light"
     },
     "output_type": "display_data"
    }
   ],
   "source": [
    "#importing tsa plots\n",
    "import statsmodels.graphics.tsaplots as tsa_plots\n",
    "\n",
    "tsa_plots.plot_acf(df.Adj_Close,lags=12) #ACF Plot\n",
    "\n",
    "tsa_plots.plot_pacf(df.Adj_Close,lags=12) #PACF Plot\n",
    "plt.show()"
   ]
  },
  {
   "cell_type": "markdown",
   "id": "d044a540",
   "metadata": {},
   "source": [
    "### Extracting Daily returns"
   ]
  },
  {
   "cell_type": "code",
   "execution_count": 27,
   "id": "7f58ecc3",
   "metadata": {
    "ExecuteTime": {
     "end_time": "2023-06-30T09:06:36.817279Z",
     "start_time": "2023-06-30T09:06:36.775631Z"
    }
   },
   "outputs": [
    {
     "data": {
      "text/html": [
       "<div>\n",
       "<style scoped>\n",
       "    .dataframe tbody tr th:only-of-type {\n",
       "        vertical-align: middle;\n",
       "    }\n",
       "\n",
       "    .dataframe tbody tr th {\n",
       "        vertical-align: top;\n",
       "    }\n",
       "\n",
       "    .dataframe thead th {\n",
       "        text-align: right;\n",
       "    }\n",
       "</style>\n",
       "<table border=\"1\" class=\"dataframe\">\n",
       "  <thead>\n",
       "    <tr style=\"text-align: right;\">\n",
       "      <th></th>\n",
       "      <th>Date</th>\n",
       "      <th>Adj_Close</th>\n",
       "      <th>Volume</th>\n",
       "      <th>year</th>\n",
       "      <th>quarter</th>\n",
       "      <th>month</th>\n",
       "      <th>week</th>\n",
       "      <th>day</th>\n",
       "      <th>Daily_Return</th>\n",
       "    </tr>\n",
       "  </thead>\n",
       "  <tbody>\n",
       "    <tr>\n",
       "      <th>0</th>\n",
       "      <td>2000-01-03</td>\n",
       "      <td>29.684195</td>\n",
       "      <td>28802010.0</td>\n",
       "      <td>2000</td>\n",
       "      <td>1</td>\n",
       "      <td>1</td>\n",
       "      <td>1</td>\n",
       "      <td>3</td>\n",
       "      <td>NaN</td>\n",
       "    </tr>\n",
       "    <tr>\n",
       "      <th>1</th>\n",
       "      <td>2000-01-04</td>\n",
       "      <td>32.060574</td>\n",
       "      <td>61320457.0</td>\n",
       "      <td>2000</td>\n",
       "      <td>1</td>\n",
       "      <td>1</td>\n",
       "      <td>1</td>\n",
       "      <td>4</td>\n",
       "      <td>0.080055</td>\n",
       "    </tr>\n",
       "    <tr>\n",
       "      <th>2</th>\n",
       "      <td>2000-01-05</td>\n",
       "      <td>33.316589</td>\n",
       "      <td>173426953.0</td>\n",
       "      <td>2000</td>\n",
       "      <td>1</td>\n",
       "      <td>1</td>\n",
       "      <td>1</td>\n",
       "      <td>5</td>\n",
       "      <td>0.039176</td>\n",
       "    </tr>\n",
       "    <tr>\n",
       "      <th>3</th>\n",
       "      <td>2000-01-06</td>\n",
       "      <td>34.714111</td>\n",
       "      <td>101355113.0</td>\n",
       "      <td>2000</td>\n",
       "      <td>1</td>\n",
       "      <td>1</td>\n",
       "      <td>1</td>\n",
       "      <td>6</td>\n",
       "      <td>0.041947</td>\n",
       "    </tr>\n",
       "    <tr>\n",
       "      <th>4</th>\n",
       "      <td>2000-01-07</td>\n",
       "      <td>37.096405</td>\n",
       "      <td>128426756.0</td>\n",
       "      <td>2000</td>\n",
       "      <td>1</td>\n",
       "      <td>1</td>\n",
       "      <td>1</td>\n",
       "      <td>7</td>\n",
       "      <td>0.068626</td>\n",
       "    </tr>\n",
       "    <tr>\n",
       "      <th>...</th>\n",
       "      <td>...</td>\n",
       "      <td>...</td>\n",
       "      <td>...</td>\n",
       "      <td>...</td>\n",
       "      <td>...</td>\n",
       "      <td>...</td>\n",
       "      <td>...</td>\n",
       "      <td>...</td>\n",
       "      <td>...</td>\n",
       "    </tr>\n",
       "    <tr>\n",
       "      <th>5750</th>\n",
       "      <td>2022-12-26</td>\n",
       "      <td>2524.050049</td>\n",
       "      <td>2764496.0</td>\n",
       "      <td>2022</td>\n",
       "      <td>4</td>\n",
       "      <td>12</td>\n",
       "      <td>52</td>\n",
       "      <td>26</td>\n",
       "      <td>0.008732</td>\n",
       "    </tr>\n",
       "    <tr>\n",
       "      <th>5751</th>\n",
       "      <td>2022-12-27</td>\n",
       "      <td>2544.699951</td>\n",
       "      <td>2659749.0</td>\n",
       "      <td>2022</td>\n",
       "      <td>4</td>\n",
       "      <td>12</td>\n",
       "      <td>52</td>\n",
       "      <td>27</td>\n",
       "      <td>0.008181</td>\n",
       "    </tr>\n",
       "    <tr>\n",
       "      <th>5752</th>\n",
       "      <td>2022-12-28</td>\n",
       "      <td>2544.449951</td>\n",
       "      <td>3442509.0</td>\n",
       "      <td>2022</td>\n",
       "      <td>4</td>\n",
       "      <td>12</td>\n",
       "      <td>52</td>\n",
       "      <td>28</td>\n",
       "      <td>-0.000098</td>\n",
       "    </tr>\n",
       "    <tr>\n",
       "      <th>5753</th>\n",
       "      <td>2022-12-29</td>\n",
       "      <td>2543.300049</td>\n",
       "      <td>3198493.0</td>\n",
       "      <td>2022</td>\n",
       "      <td>4</td>\n",
       "      <td>12</td>\n",
       "      <td>52</td>\n",
       "      <td>29</td>\n",
       "      <td>-0.000452</td>\n",
       "    </tr>\n",
       "    <tr>\n",
       "      <th>5754</th>\n",
       "      <td>2022-12-30</td>\n",
       "      <td>2547.199951</td>\n",
       "      <td>3364092.0</td>\n",
       "      <td>2022</td>\n",
       "      <td>4</td>\n",
       "      <td>12</td>\n",
       "      <td>52</td>\n",
       "      <td>30</td>\n",
       "      <td>0.001533</td>\n",
       "    </tr>\n",
       "  </tbody>\n",
       "</table>\n",
       "<p>5755 rows × 9 columns</p>\n",
       "</div>"
      ],
      "text/plain": [
       "           Date    Adj_Close       Volume  year  quarter  month  week  day  \\\n",
       "0    2000-01-03    29.684195   28802010.0  2000        1      1     1    3   \n",
       "1    2000-01-04    32.060574   61320457.0  2000        1      1     1    4   \n",
       "2    2000-01-05    33.316589  173426953.0  2000        1      1     1    5   \n",
       "3    2000-01-06    34.714111  101355113.0  2000        1      1     1    6   \n",
       "4    2000-01-07    37.096405  128426756.0  2000        1      1     1    7   \n",
       "...         ...          ...          ...   ...      ...    ...   ...  ...   \n",
       "5750 2022-12-26  2524.050049    2764496.0  2022        4     12    52   26   \n",
       "5751 2022-12-27  2544.699951    2659749.0  2022        4     12    52   27   \n",
       "5752 2022-12-28  2544.449951    3442509.0  2022        4     12    52   28   \n",
       "5753 2022-12-29  2543.300049    3198493.0  2022        4     12    52   29   \n",
       "5754 2022-12-30  2547.199951    3364092.0  2022        4     12    52   30   \n",
       "\n",
       "      Daily_Return  \n",
       "0              NaN  \n",
       "1         0.080055  \n",
       "2         0.039176  \n",
       "3         0.041947  \n",
       "4         0.068626  \n",
       "...            ...  \n",
       "5750      0.008732  \n",
       "5751      0.008181  \n",
       "5752     -0.000098  \n",
       "5753     -0.000452  \n",
       "5754      0.001533  \n",
       "\n",
       "[5755 rows x 9 columns]"
      ]
     },
     "execution_count": 27,
     "metadata": {},
     "output_type": "execute_result"
    }
   ],
   "source": [
    "df['Daily_Return'] = df['Adj_Close'].pct_change()\n",
    "df"
   ]
  },
  {
   "cell_type": "code",
   "execution_count": 28,
   "id": "996be966",
   "metadata": {
    "ExecuteTime": {
     "end_time": "2023-06-30T09:06:36.847608Z",
     "start_time": "2023-06-30T09:06:36.827253Z"
    }
   },
   "outputs": [
    {
     "data": {
      "text/plain": [
       "0.006231727771954743"
      ]
     },
     "execution_count": 28,
     "metadata": {},
     "output_type": "execute_result"
    }
   ],
   "source": [
    "mean_dr = np.mean(df['Daily_Return'])\n",
    "mean_dr #average of daily returns"
   ]
  },
  {
   "cell_type": "markdown",
   "id": "3076a6ef",
   "metadata": {},
   "source": [
    "###  Down Sampling"
   ]
  },
  {
   "cell_type": "markdown",
   "id": "af257993",
   "metadata": {},
   "source": [
    "**Making Date Column as Index**"
   ]
  },
  {
   "cell_type": "code",
   "execution_count": 29,
   "id": "efc2978d",
   "metadata": {
    "ExecuteTime": {
     "end_time": "2023-06-30T09:06:36.863040Z",
     "start_time": "2023-06-30T09:06:36.850578Z"
    },
    "scrolled": true
   },
   "outputs": [],
   "source": [
    "df.set_index('Date',inplace=True)"
   ]
  },
  {
   "cell_type": "code",
   "execution_count": 30,
   "id": "54a19af4",
   "metadata": {
    "ExecuteTime": {
     "end_time": "2023-06-30T09:06:36.894498Z",
     "start_time": "2023-06-30T09:06:36.866033Z"
    }
   },
   "outputs": [
    {
     "data": {
      "text/html": [
       "<div>\n",
       "<style scoped>\n",
       "    .dataframe tbody tr th:only-of-type {\n",
       "        vertical-align: middle;\n",
       "    }\n",
       "\n",
       "    .dataframe tbody tr th {\n",
       "        vertical-align: top;\n",
       "    }\n",
       "\n",
       "    .dataframe thead th {\n",
       "        text-align: right;\n",
       "    }\n",
       "</style>\n",
       "<table border=\"1\" class=\"dataframe\">\n",
       "  <thead>\n",
       "    <tr style=\"text-align: right;\">\n",
       "      <th></th>\n",
       "      <th>Adj_Close</th>\n",
       "      <th>Volume</th>\n",
       "      <th>year</th>\n",
       "      <th>quarter</th>\n",
       "      <th>month</th>\n",
       "      <th>week</th>\n",
       "      <th>day</th>\n",
       "      <th>Daily_Return</th>\n",
       "    </tr>\n",
       "    <tr>\n",
       "      <th>Date</th>\n",
       "      <th></th>\n",
       "      <th></th>\n",
       "      <th></th>\n",
       "      <th></th>\n",
       "      <th></th>\n",
       "      <th></th>\n",
       "      <th></th>\n",
       "      <th></th>\n",
       "    </tr>\n",
       "  </thead>\n",
       "  <tbody>\n",
       "    <tr>\n",
       "      <th>2000-01-03</th>\n",
       "      <td>29.684195</td>\n",
       "      <td>28802010.0</td>\n",
       "      <td>2000</td>\n",
       "      <td>1</td>\n",
       "      <td>1</td>\n",
       "      <td>1</td>\n",
       "      <td>3</td>\n",
       "      <td>NaN</td>\n",
       "    </tr>\n",
       "    <tr>\n",
       "      <th>2000-01-04</th>\n",
       "      <td>32.060574</td>\n",
       "      <td>61320457.0</td>\n",
       "      <td>2000</td>\n",
       "      <td>1</td>\n",
       "      <td>1</td>\n",
       "      <td>1</td>\n",
       "      <td>4</td>\n",
       "      <td>0.080055</td>\n",
       "    </tr>\n",
       "    <tr>\n",
       "      <th>2000-01-05</th>\n",
       "      <td>33.316589</td>\n",
       "      <td>173426953.0</td>\n",
       "      <td>2000</td>\n",
       "      <td>1</td>\n",
       "      <td>1</td>\n",
       "      <td>1</td>\n",
       "      <td>5</td>\n",
       "      <td>0.039176</td>\n",
       "    </tr>\n",
       "    <tr>\n",
       "      <th>2000-01-06</th>\n",
       "      <td>34.714111</td>\n",
       "      <td>101355113.0</td>\n",
       "      <td>2000</td>\n",
       "      <td>1</td>\n",
       "      <td>1</td>\n",
       "      <td>1</td>\n",
       "      <td>6</td>\n",
       "      <td>0.041947</td>\n",
       "    </tr>\n",
       "    <tr>\n",
       "      <th>2000-01-07</th>\n",
       "      <td>37.096405</td>\n",
       "      <td>128426756.0</td>\n",
       "      <td>2000</td>\n",
       "      <td>1</td>\n",
       "      <td>1</td>\n",
       "      <td>1</td>\n",
       "      <td>7</td>\n",
       "      <td>0.068626</td>\n",
       "    </tr>\n",
       "    <tr>\n",
       "      <th>...</th>\n",
       "      <td>...</td>\n",
       "      <td>...</td>\n",
       "      <td>...</td>\n",
       "      <td>...</td>\n",
       "      <td>...</td>\n",
       "      <td>...</td>\n",
       "      <td>...</td>\n",
       "      <td>...</td>\n",
       "    </tr>\n",
       "    <tr>\n",
       "      <th>2022-12-26</th>\n",
       "      <td>2524.050049</td>\n",
       "      <td>2764496.0</td>\n",
       "      <td>2022</td>\n",
       "      <td>4</td>\n",
       "      <td>12</td>\n",
       "      <td>52</td>\n",
       "      <td>26</td>\n",
       "      <td>0.008732</td>\n",
       "    </tr>\n",
       "    <tr>\n",
       "      <th>2022-12-27</th>\n",
       "      <td>2544.699951</td>\n",
       "      <td>2659749.0</td>\n",
       "      <td>2022</td>\n",
       "      <td>4</td>\n",
       "      <td>12</td>\n",
       "      <td>52</td>\n",
       "      <td>27</td>\n",
       "      <td>0.008181</td>\n",
       "    </tr>\n",
       "    <tr>\n",
       "      <th>2022-12-28</th>\n",
       "      <td>2544.449951</td>\n",
       "      <td>3442509.0</td>\n",
       "      <td>2022</td>\n",
       "      <td>4</td>\n",
       "      <td>12</td>\n",
       "      <td>52</td>\n",
       "      <td>28</td>\n",
       "      <td>-0.000098</td>\n",
       "    </tr>\n",
       "    <tr>\n",
       "      <th>2022-12-29</th>\n",
       "      <td>2543.300049</td>\n",
       "      <td>3198493.0</td>\n",
       "      <td>2022</td>\n",
       "      <td>4</td>\n",
       "      <td>12</td>\n",
       "      <td>52</td>\n",
       "      <td>29</td>\n",
       "      <td>-0.000452</td>\n",
       "    </tr>\n",
       "    <tr>\n",
       "      <th>2022-12-30</th>\n",
       "      <td>2547.199951</td>\n",
       "      <td>3364092.0</td>\n",
       "      <td>2022</td>\n",
       "      <td>4</td>\n",
       "      <td>12</td>\n",
       "      <td>52</td>\n",
       "      <td>30</td>\n",
       "      <td>0.001533</td>\n",
       "    </tr>\n",
       "  </tbody>\n",
       "</table>\n",
       "<p>5755 rows × 8 columns</p>\n",
       "</div>"
      ],
      "text/plain": [
       "              Adj_Close       Volume  year  quarter  month  week  day  \\\n",
       "Date                                                                    \n",
       "2000-01-03    29.684195   28802010.0  2000        1      1     1    3   \n",
       "2000-01-04    32.060574   61320457.0  2000        1      1     1    4   \n",
       "2000-01-05    33.316589  173426953.0  2000        1      1     1    5   \n",
       "2000-01-06    34.714111  101355113.0  2000        1      1     1    6   \n",
       "2000-01-07    37.096405  128426756.0  2000        1      1     1    7   \n",
       "...                 ...          ...   ...      ...    ...   ...  ...   \n",
       "2022-12-26  2524.050049    2764496.0  2022        4     12    52   26   \n",
       "2022-12-27  2544.699951    2659749.0  2022        4     12    52   27   \n",
       "2022-12-28  2544.449951    3442509.0  2022        4     12    52   28   \n",
       "2022-12-29  2543.300049    3198493.0  2022        4     12    52   29   \n",
       "2022-12-30  2547.199951    3364092.0  2022        4     12    52   30   \n",
       "\n",
       "            Daily_Return  \n",
       "Date                      \n",
       "2000-01-03           NaN  \n",
       "2000-01-04      0.080055  \n",
       "2000-01-05      0.039176  \n",
       "2000-01-06      0.041947  \n",
       "2000-01-07      0.068626  \n",
       "...                  ...  \n",
       "2022-12-26      0.008732  \n",
       "2022-12-27      0.008181  \n",
       "2022-12-28     -0.000098  \n",
       "2022-12-29     -0.000452  \n",
       "2022-12-30      0.001533  \n",
       "\n",
       "[5755 rows x 8 columns]"
      ]
     },
     "execution_count": 30,
     "metadata": {},
     "output_type": "execute_result"
    }
   ],
   "source": [
    "df"
   ]
  },
  {
   "cell_type": "markdown",
   "id": "ab0de57f",
   "metadata": {},
   "source": [
    "**Downsampling the Date wise Data into Quarterly wise for better understanding and better model building**"
   ]
  },
  {
   "cell_type": "code",
   "execution_count": 31,
   "id": "c34447af",
   "metadata": {
    "ExecuteTime": {
     "end_time": "2023-06-30T09:06:36.956943Z",
     "start_time": "2023-06-30T09:06:36.896696Z"
    }
   },
   "outputs": [
    {
     "data": {
      "text/html": [
       "<div>\n",
       "<style scoped>\n",
       "    .dataframe tbody tr th:only-of-type {\n",
       "        vertical-align: middle;\n",
       "    }\n",
       "\n",
       "    .dataframe tbody tr th {\n",
       "        vertical-align: top;\n",
       "    }\n",
       "\n",
       "    .dataframe thead th {\n",
       "        text-align: right;\n",
       "    }\n",
       "</style>\n",
       "<table border=\"1\" class=\"dataframe\">\n",
       "  <thead>\n",
       "    <tr style=\"text-align: right;\">\n",
       "      <th></th>\n",
       "      <th>Adj_Close</th>\n",
       "      <th>Volume</th>\n",
       "      <th>year</th>\n",
       "      <th>quarter</th>\n",
       "      <th>month</th>\n",
       "      <th>week</th>\n",
       "      <th>day</th>\n",
       "      <th>Daily_Return</th>\n",
       "    </tr>\n",
       "    <tr>\n",
       "      <th>Date</th>\n",
       "      <th></th>\n",
       "      <th></th>\n",
       "      <th></th>\n",
       "      <th></th>\n",
       "      <th></th>\n",
       "      <th></th>\n",
       "      <th></th>\n",
       "      <th></th>\n",
       "    </tr>\n",
       "  </thead>\n",
       "  <tbody>\n",
       "    <tr>\n",
       "      <th>2000-03-31</th>\n",
       "      <td>35.337539</td>\n",
       "      <td>6.006248e+07</td>\n",
       "      <td>2000.0</td>\n",
       "      <td>1.0</td>\n",
       "      <td>2.030769</td>\n",
       "      <td>7.000000</td>\n",
       "      <td>15.753846</td>\n",
       "      <td>0.004415</td>\n",
       "    </tr>\n",
       "    <tr>\n",
       "      <th>2000-06-30</th>\n",
       "      <td>39.758554</td>\n",
       "      <td>5.871569e+07</td>\n",
       "      <td>2000.0</td>\n",
       "      <td>2.0</td>\n",
       "      <td>5.030769</td>\n",
       "      <td>20.000000</td>\n",
       "      <td>15.738462</td>\n",
       "      <td>0.001991</td>\n",
       "    </tr>\n",
       "    <tr>\n",
       "      <th>2000-09-30</th>\n",
       "      <td>41.806032</td>\n",
       "      <td>3.186951e+07</td>\n",
       "      <td>2000.0</td>\n",
       "      <td>3.0</td>\n",
       "      <td>8.000000</td>\n",
       "      <td>33.000000</td>\n",
       "      <td>16.000000</td>\n",
       "      <td>0.000282</td>\n",
       "    </tr>\n",
       "    <tr>\n",
       "      <th>2000-12-31</th>\n",
       "      <td>38.938070</td>\n",
       "      <td>2.292926e+07</td>\n",
       "      <td>2000.0</td>\n",
       "      <td>4.0</td>\n",
       "      <td>10.984615</td>\n",
       "      <td>46.000000</td>\n",
       "      <td>15.800000</td>\n",
       "      <td>-0.000032</td>\n",
       "    </tr>\n",
       "    <tr>\n",
       "      <th>2001-03-31</th>\n",
       "      <td>47.003284</td>\n",
       "      <td>3.917811e+07</td>\n",
       "      <td>2001.0</td>\n",
       "      <td>1.0</td>\n",
       "      <td>1.984615</td>\n",
       "      <td>7.000000</td>\n",
       "      <td>15.492308</td>\n",
       "      <td>0.002369</td>\n",
       "    </tr>\n",
       "    <tr>\n",
       "      <th>...</th>\n",
       "      <td>...</td>\n",
       "      <td>...</td>\n",
       "      <td>...</td>\n",
       "      <td>...</td>\n",
       "      <td>...</td>\n",
       "      <td>...</td>\n",
       "      <td>...</td>\n",
       "      <td>...</td>\n",
       "    </tr>\n",
       "    <tr>\n",
       "      <th>2021-12-31</th>\n",
       "      <td>2487.533726</td>\n",
       "      <td>6.163782e+06</td>\n",
       "      <td>2021.0</td>\n",
       "      <td>4.0</td>\n",
       "      <td>11.047619</td>\n",
       "      <td>46.000000</td>\n",
       "      <td>15.825397</td>\n",
       "      <td>-0.000822</td>\n",
       "    </tr>\n",
       "    <tr>\n",
       "      <th>2022-03-31</th>\n",
       "      <td>2419.769663</td>\n",
       "      <td>6.354418e+06</td>\n",
       "      <td>2022.0</td>\n",
       "      <td>1.0</td>\n",
       "      <td>2.016393</td>\n",
       "      <td>6.852459</td>\n",
       "      <td>15.442623</td>\n",
       "      <td>0.001913</td>\n",
       "    </tr>\n",
       "    <tr>\n",
       "      <th>2022-06-30</th>\n",
       "      <td>2611.850956</td>\n",
       "      <td>7.820119e+06</td>\n",
       "      <td>2022.0</td>\n",
       "      <td>2.0</td>\n",
       "      <td>5.048387</td>\n",
       "      <td>19.983871</td>\n",
       "      <td>16.048387</td>\n",
       "      <td>-0.000046</td>\n",
       "    </tr>\n",
       "    <tr>\n",
       "      <th>2022-09-30</th>\n",
       "      <td>2510.095044</td>\n",
       "      <td>6.736670e+06</td>\n",
       "      <td>2022.0</td>\n",
       "      <td>3.0</td>\n",
       "      <td>8.015873</td>\n",
       "      <td>32.873016</td>\n",
       "      <td>15.698413</td>\n",
       "      <td>-0.001213</td>\n",
       "    </tr>\n",
       "    <tr>\n",
       "      <th>2022-12-31</th>\n",
       "      <td>2553.101629</td>\n",
       "      <td>4.680960e+06</td>\n",
       "      <td>2022.0</td>\n",
       "      <td>4.0</td>\n",
       "      <td>11.048387</td>\n",
       "      <td>46.161290</td>\n",
       "      <td>16.000000</td>\n",
       "      <td>0.001180</td>\n",
       "    </tr>\n",
       "  </tbody>\n",
       "</table>\n",
       "<p>92 rows × 8 columns</p>\n",
       "</div>"
      ],
      "text/plain": [
       "              Adj_Close        Volume    year  quarter      month       week  \\\n",
       "Date                                                                           \n",
       "2000-03-31    35.337539  6.006248e+07  2000.0      1.0   2.030769   7.000000   \n",
       "2000-06-30    39.758554  5.871569e+07  2000.0      2.0   5.030769  20.000000   \n",
       "2000-09-30    41.806032  3.186951e+07  2000.0      3.0   8.000000  33.000000   \n",
       "2000-12-31    38.938070  2.292926e+07  2000.0      4.0  10.984615  46.000000   \n",
       "2001-03-31    47.003284  3.917811e+07  2001.0      1.0   1.984615   7.000000   \n",
       "...                 ...           ...     ...      ...        ...        ...   \n",
       "2021-12-31  2487.533726  6.163782e+06  2021.0      4.0  11.047619  46.000000   \n",
       "2022-03-31  2419.769663  6.354418e+06  2022.0      1.0   2.016393   6.852459   \n",
       "2022-06-30  2611.850956  7.820119e+06  2022.0      2.0   5.048387  19.983871   \n",
       "2022-09-30  2510.095044  6.736670e+06  2022.0      3.0   8.015873  32.873016   \n",
       "2022-12-31  2553.101629  4.680960e+06  2022.0      4.0  11.048387  46.161290   \n",
       "\n",
       "                  day  Daily_Return  \n",
       "Date                                 \n",
       "2000-03-31  15.753846      0.004415  \n",
       "2000-06-30  15.738462      0.001991  \n",
       "2000-09-30  16.000000      0.000282  \n",
       "2000-12-31  15.800000     -0.000032  \n",
       "2001-03-31  15.492308      0.002369  \n",
       "...               ...           ...  \n",
       "2021-12-31  15.825397     -0.000822  \n",
       "2022-03-31  15.442623      0.001913  \n",
       "2022-06-30  16.048387     -0.000046  \n",
       "2022-09-30  15.698413     -0.001213  \n",
       "2022-12-31  16.000000      0.001180  \n",
       "\n",
       "[92 rows x 8 columns]"
      ]
     },
     "execution_count": 31,
     "metadata": {},
     "output_type": "execute_result"
    }
   ],
   "source": [
    "Quarterlydata = df.resample('Q').mean()\n",
    "Quarterlydata"
   ]
  },
  {
   "cell_type": "markdown",
   "id": "952fd7e9",
   "metadata": {},
   "source": [
    "## Model Building "
   ]
  },
  {
   "cell_type": "markdown",
   "id": "28000cbb",
   "metadata": {},
   "source": [
    "### Splitting Data \n",
    " Here splitting data in the **ratio of 80:20** for Training and Testing respectively"
   ]
  },
  {
   "cell_type": "code",
   "execution_count": 32,
   "id": "ab4f1162",
   "metadata": {
    "ExecuteTime": {
     "end_time": "2023-06-30T09:06:36.972225Z",
     "start_time": "2023-06-30T09:06:36.959469Z"
    }
   },
   "outputs": [],
   "source": [
    "Train = Quarterlydata.head(73)\n",
    "Test = Quarterlydata.tail(19) "
   ]
  },
  {
   "cell_type": "markdown",
   "id": "f68c9efb",
   "metadata": {},
   "source": [
    "### Data Driven Forecasting Methods\n",
    "Under Data Driven Forcasting Methods we use \n",
    "1. Moving Average Method\n",
    "2. Simple Exponential Smoothing Technique\n",
    "3. Advance Exponential Smoothing Techniques --> a) Holt's Method\n",
    "   b) Holt's Winter Method\n",
    "   "
   ]
  },
  {
   "cell_type": "code",
   "execution_count": 33,
   "id": "aa36a1ad",
   "metadata": {
    "ExecuteTime": {
     "end_time": "2023-06-30T09:06:37.269054Z",
     "start_time": "2023-06-30T09:06:36.975799Z"
    }
   },
   "outputs": [],
   "source": [
    "#Importing Data driven forecasting methods libraries\n",
    "from statsmodels.tsa.seasonal import seasonal_decompose #Seasonal Decompose library to know the trend, seasonality and resid\n",
    "from statsmodels.tsa.holtwinters import SimpleExpSmoothing # SES\n",
    "from statsmodels.tsa.holtwinters import Holt # Holts Exponential Smoothing\n",
    "from statsmodels.tsa.holtwinters import ExponentialSmoothing "
   ]
  },
  {
   "cell_type": "markdown",
   "id": "d94ba90e",
   "metadata": {},
   "source": [
    "### Moving average Method"
   ]
  },
  {
   "cell_type": "code",
   "execution_count": 34,
   "id": "bc808c53",
   "metadata": {
    "ExecuteTime": {
     "end_time": "2023-06-30T09:06:38.283901Z",
     "start_time": "2023-06-30T09:06:37.274045Z"
    },
    "scrolled": true
   },
   "outputs": [
    {
     "data": {
      "text/plain": [
       "<matplotlib.legend.Legend at 0x1f9e1bd19d0>"
      ]
     },
     "execution_count": 34,
     "metadata": {},
     "output_type": "execute_result"
    },
    {
     "data": {
      "image/png": "[encoded data removed]",
      "text/plain": [
       "<Figure size 864x288 with 1 Axes>"
      ]
     },
     "metadata": {
      "needs_background": "light"
     },
     "output_type": "display_data"
    }
   ],
   "source": [
    "plt.figure(figsize=(12,4))\n",
    "df.Adj_Close.plot(label=\"org\")\n",
    "for i in range(2,24,6):#range from 2 to 24  with step size of 6\n",
    "    df[\"Adj_Close\"].rolling(i).mean().plot(label=str(i)) \n",
    "plt.legend(loc='best') "
   ]
  },
  {
   "cell_type": "markdown",
   "id": "d17276ce",
   "metadata": {},
   "source": [
    "### Time series decomposition plot "
   ]
  },
  {
   "cell_type": "code",
   "execution_count": 35,
   "id": "225b1409",
   "metadata": {
    "ExecuteTime": {
     "end_time": "2023-06-30T09:06:39.176145Z",
     "start_time": "2023-06-30T09:06:38.288464Z"
    }
   },
   "outputs": [
    {
     "data": {
      "image/png": "[encoded data removed]",
      "text/plain": [
       "<Figure size 432x288 with 4 Axes>"
      ]
     },
     "metadata": {
      "needs_background": "light"
     },
     "output_type": "display_data"
    }
   ],
   "source": [
    "decompose_ts_add = seasonal_decompose(df.Adj_Close,period=52)\n",
    "decompose_ts_add.plot()\n",
    "plt.show()"
   ]
  },
  {
   "cell_type": "markdown",
   "id": "22998e99",
   "metadata": {},
   "source": [
    "To Calcute the **Mean Absolute Percentage Error** we will define a function "
   ]
  },
  {
   "cell_type": "code",
   "execution_count": 36,
   "id": "f2625e5c",
   "metadata": {
    "ExecuteTime": {
     "end_time": "2023-06-30T09:06:39.191477Z",
     "start_time": "2023-06-30T09:06:39.180747Z"
    }
   },
   "outputs": [],
   "source": [
    "def MAPE(pred,org): #mean absolute percentage error\n",
    "    temp = np.abs((pred-org)/org)*100 #mape function = prediction value-orginal value for error(e),by orginal value *100 for percentage(p),.abs for absolute\n",
    "    return np.mean(temp)  #and taking mean of it toget MAPE"
   ]
  },
  {
   "cell_type": "markdown",
   "id": "cc617b59",
   "metadata": {},
   "source": [
    "To Calculate the **Root Mean Square Error** we will define a function"
   ]
  },
  {
   "cell_type": "code",
   "execution_count": 37,
   "id": "0319c732",
   "metadata": {
    "ExecuteTime": {
     "end_time": "2023-06-30T09:06:39.206679Z",
     "start_time": "2023-06-30T09:06:39.193448Z"
    }
   },
   "outputs": [],
   "source": [
    "def RMSE(org, pred):\n",
    "    rmse=np.sqrt(np.mean((np.array(org)-np.array(pred))**2))\n",
    "    return rmse"
   ]
  },
  {
   "cell_type": "markdown",
   "id": "441533ce",
   "metadata": {},
   "source": [
    "### Simple Exponential Method"
   ]
  },
  {
   "cell_type": "code",
   "execution_count": 38,
   "id": "2374630f",
   "metadata": {
    "ExecuteTime": {
     "end_time": "2023-06-30T09:06:39.237603Z",
     "start_time": "2023-06-30T09:06:39.209543Z"
    }
   },
   "outputs": [
    {
     "name": "stdout",
     "output_type": "stream",
     "text": [
      "MAPE Value for SES =  57.41269959527715\n",
      "RMSE Value for SES =  1244.6083962152773\n"
     ]
    }
   ],
   "source": [
    "Train[\"Adj_Close\"] = Train[\"Adj_Close\"].astype('double') \n",
    "ses_model = SimpleExpSmoothing(Train[\"Adj_Close\"]).fit(smoothing_level=0.2)\n",
    "pred_ses = ses_model.predict(start = Test.index[0],end = Test.index[-1])\n",
    "mape_ses_model=MAPE(pred_ses,Test.Adj_Close)   \n",
    "rmse_ses_model=RMSE(Test.Adj_Close, pred_ses)\n",
    "print(\"MAPE Value for SES = \" ,mape_ses_model)\n",
    "print(\"RMSE Value for SES = \" ,rmse_ses_model)"
   ]
  },
  {
   "cell_type": "markdown",
   "id": "286d65f6",
   "metadata": {},
   "source": [
    "### Holt method "
   ]
  },
  {
   "cell_type": "code",
   "execution_count": 39,
   "id": "12462c0a",
   "metadata": {
    "ExecuteTime": {
     "end_time": "2023-06-30T09:06:39.268071Z",
     "start_time": "2023-06-30T09:06:39.241629Z"
    }
   },
   "outputs": [
    {
     "name": "stdout",
     "output_type": "stream",
     "text": [
      "MAPE Value for Holt = 15.675038870143533\n",
      "RMSE Value for Holt = 428.60039003084125\n"
     ]
    }
   ],
   "source": [
    "hw_model = Holt(Train[\"Adj_Close\"]).fit(smoothing_level=0.8, smoothing_slope=0.2)\n",
    "pred_hw = hw_model.predict(start = Test.index[0],end = Test.index[-1])\n",
    "mape_hw_model=MAPE(pred_hw,Test.Adj_Close) \n",
    "rmse_hw_model=RMSE(Test.Adj_Close, pred_hw)\n",
    "print(\"MAPE Value for Holt =\" ,mape_hw_model)\n",
    "print(\"RMSE Value for Holt =\" ,rmse_hw_model)"
   ]
  },
  {
   "cell_type": "markdown",
   "id": "42e9ee4a",
   "metadata": {},
   "source": [
    "### Holts winter exponential smoothing method"
   ]
  },
  {
   "cell_type": "code",
   "execution_count": 40,
   "id": "17801eb5",
   "metadata": {
    "ExecuteTime": {
     "end_time": "2023-06-30T09:06:39.313758Z",
     "start_time": "2023-06-30T09:06:39.270575Z"
    }
   },
   "outputs": [
    {
     "name": "stdout",
     "output_type": "stream",
     "text": [
      "MAPE Value for Holt Winter Exponential = 44.174788615351744\n",
      "RMSE Value for Holt Winter Exponential = 1059.797141487305\n"
     ]
    }
   ],
   "source": [
    "hwe_model = ExponentialSmoothing(Train[\"Adj_Close\"]).fit() #add the trend to the model\n",
    "pred_hwe = hwe_model.predict(start = Test.index[0],end = Test.index[-1])\n",
    "mape_hwe_model=MAPE(pred_hwe,Test.Adj_Close)\n",
    "rmse_hwe_model=RMSE(Test.Adj_Close, pred_hwe)\n",
    "print(\"MAPE Value for Holt Winter Exponential =\" ,mape_hwe_model)\n",
    "print(\"RMSE Value for Holt Winter Exponential =\" ,rmse_hwe_model)"
   ]
  },
  {
   "cell_type": "markdown",
   "id": "01205d6e",
   "metadata": {},
   "source": [
    "### Holts winter exponential smoothing with additive seasonality and additive trend"
   ]
  },
  {
   "cell_type": "code",
   "execution_count": 41,
   "id": "7d460690",
   "metadata": {
    "ExecuteTime": {
     "end_time": "2023-06-30T09:06:39.654139Z",
     "start_time": "2023-06-30T09:06:39.315932Z"
    }
   },
   "outputs": [
    {
     "name": "stdout",
     "output_type": "stream",
     "text": [
      "MAPE Value for Holt Winter Exponential = 13.029692743009894\n",
      "RMSE Value for Holt Winter Exponential = 343.7053626356921\n"
     ]
    }
   ],
   "source": [
    "hwe_model_add_add = ExponentialSmoothing(Train[\"Adj_Close\"],seasonal=\"add\",trend=\"add\",seasonal_periods=12).fit() #add the trend to the model\n",
    "pred_hwe_add_add = hwe_model_add_add.predict(start = Test.index[0],end = Test.index[-1])\n",
    "mape_hwe_model_add_add=MAPE(pred_hwe_add_add,Test.Adj_Close)  \n",
    "rmse_hwe_model_add_add=RMSE(Test.Adj_Close, pred_hwe_add_add)\n",
    "print(\"MAPE Value for Holt Winter Exponential =\" ,mape_hwe_model_add_add)\n",
    "print(\"RMSE Value for Holt Winter Exponential =\" ,rmse_hwe_model_add_add)"
   ]
  },
  {
   "cell_type": "markdown",
   "id": "6c683147",
   "metadata": {},
   "source": [
    "### Holts winter exponential smoothing with multiplicative seasonality and additive trend"
   ]
  },
  {
   "cell_type": "code",
   "execution_count": 42,
   "id": "71cf4b04",
   "metadata": {
    "ExecuteTime": {
     "end_time": "2023-06-30T09:06:40.104405Z",
     "start_time": "2023-06-30T09:06:39.658130Z"
    }
   },
   "outputs": [
    {
     "name": "stdout",
     "output_type": "stream",
     "text": [
      "MAPE Value for Holt Winter Exponential = 19.205554223421217\n",
      "RMSE Value for Holt Winter Exponential = 377.9533152626947\n"
     ]
    }
   ],
   "source": [
    "hwe_model_mul_add = ExponentialSmoothing(Train[\"Adj_Close\"],seasonal=\"mul\",trend=\"add\",seasonal_periods=12).fit() \n",
    "pred_hwe_mul_add = hwe_model_mul_add.predict(start = Test.index[0],end = Test.index[-1])\n",
    "mape_hwe_model_mul_add=MAPE(pred_hwe_mul_add,Test.Adj_Close) \n",
    "rmse_hwe_model_mul_add=RMSE(Test.Adj_Close, pred_hwe_mul_add)\n",
    "print(\"MAPE Value for Holt Winter Exponential =\" ,mape_hwe_model_mul_add)\n",
    "print(\"RMSE Value for Holt Winter Exponential =\" ,rmse_hwe_model_mul_add)"
   ]
  },
  {
   "cell_type": "code",
   "execution_count": 43,
   "id": "8723d74c",
   "metadata": {
    "ExecuteTime": {
     "end_time": "2023-06-30T09:06:40.135025Z",
     "start_time": "2023-06-30T09:06:40.105724Z"
    }
   },
   "outputs": [
    {
     "data": {
      "text/html": [
       "<div>\n",
       "<style scoped>\n",
       "    .dataframe tbody tr th:only-of-type {\n",
       "        vertical-align: middle;\n",
       "    }\n",
       "\n",
       "    .dataframe tbody tr th {\n",
       "        vertical-align: top;\n",
       "    }\n",
       "\n",
       "    .dataframe thead th {\n",
       "        text-align: right;\n",
       "    }\n",
       "</style>\n",
       "<table border=\"1\" class=\"dataframe\">\n",
       "  <thead>\n",
       "    <tr style=\"text-align: right;\">\n",
       "      <th></th>\n",
       "      <th>MODEL</th>\n",
       "      <th>MAPE_Values</th>\n",
       "      <th>RMSE_Values</th>\n",
       "    </tr>\n",
       "  </thead>\n",
       "  <tbody>\n",
       "    <tr>\n",
       "      <th>3</th>\n",
       "      <td>holtw_add_add_model</td>\n",
       "      <td>13.029693</td>\n",
       "      <td>343.705363</td>\n",
       "    </tr>\n",
       "    <tr>\n",
       "      <th>4</th>\n",
       "      <td>holtw_mult_add_model</td>\n",
       "      <td>19.205554</td>\n",
       "      <td>377.953315</td>\n",
       "    </tr>\n",
       "    <tr>\n",
       "      <th>1</th>\n",
       "      <td>holt_model</td>\n",
       "      <td>15.675039</td>\n",
       "      <td>428.600390</td>\n",
       "    </tr>\n",
       "    <tr>\n",
       "      <th>2</th>\n",
       "      <td>holt_winter_model</td>\n",
       "      <td>44.174789</td>\n",
       "      <td>1059.797141</td>\n",
       "    </tr>\n",
       "    <tr>\n",
       "      <th>0</th>\n",
       "      <td>ses_model</td>\n",
       "      <td>57.412700</td>\n",
       "      <td>1244.608396</td>\n",
       "    </tr>\n",
       "  </tbody>\n",
       "</table>\n",
       "</div>"
      ],
      "text/plain": [
       "                  MODEL  MAPE_Values  RMSE_Values\n",
       "3   holtw_add_add_model    13.029693   343.705363\n",
       "4  holtw_mult_add_model    19.205554   377.953315\n",
       "1            holt_model    15.675039   428.600390\n",
       "2     holt_winter_model    44.174789  1059.797141\n",
       "0             ses_model    57.412700  1244.608396"
      ]
     },
     "execution_count": 43,
     "metadata": {},
     "output_type": "execute_result"
    }
   ],
   "source": [
    "#Compare the results \n",
    "\n",
    "data = {\"MODEL\":pd.Series([\"ses_model\",\"holt_model\",\"holt_winter_model\",\"holtw_add_add_model\",\"holtw_mult_add_model\"]),\n",
    "        \"MAPE_Values\":pd.Series([mape_ses_model,mape_hw_model,mape_hwe_model,mape_hwe_model_add_add,mape_hwe_model_mul_add]),\n",
    "        \"RMSE_Values\":pd.Series([rmse_ses_model,rmse_hw_model,rmse_hwe_model,rmse_hwe_model_add_add,rmse_hwe_model_mul_add])}\n",
    "table_data_driven=pd.DataFrame(data)\n",
    "table_data_driven.sort_values(['RMSE_Values','MAPE_Values'],ascending = [True, True]) "
   ]
  },
  {
   "cell_type": "markdown",
   "id": "8eb1c933",
   "metadata": {},
   "source": [
    "## Model based Forecasting Methods"
   ]
  },
  {
   "cell_type": "code",
   "execution_count": 44,
   "id": "3b353aab",
   "metadata": {
    "ExecuteTime": {
     "end_time": "2023-06-30T09:06:40.197595Z",
     "start_time": "2023-06-30T09:06:40.137077Z"
    }
   },
   "outputs": [
    {
     "data": {
      "text/html": [
       "<div>\n",
       "<style scoped>\n",
       "    .dataframe tbody tr th:only-of-type {\n",
       "        vertical-align: middle;\n",
       "    }\n",
       "\n",
       "    .dataframe tbody tr th {\n",
       "        vertical-align: top;\n",
       "    }\n",
       "\n",
       "    .dataframe thead th {\n",
       "        text-align: right;\n",
       "    }\n",
       "</style>\n",
       "<table border=\"1\" class=\"dataframe\">\n",
       "  <thead>\n",
       "    <tr style=\"text-align: right;\">\n",
       "      <th></th>\n",
       "      <th>Adj_Close</th>\n",
       "      <th>Volume</th>\n",
       "      <th>year</th>\n",
       "      <th>quarter</th>\n",
       "      <th>month</th>\n",
       "      <th>week</th>\n",
       "      <th>day</th>\n",
       "      <th>Daily_Return</th>\n",
       "      <th>t</th>\n",
       "      <th>t_squared</th>\n",
       "      <th>log_Adj_Close</th>\n",
       "    </tr>\n",
       "    <tr>\n",
       "      <th>Date</th>\n",
       "      <th></th>\n",
       "      <th></th>\n",
       "      <th></th>\n",
       "      <th></th>\n",
       "      <th></th>\n",
       "      <th></th>\n",
       "      <th></th>\n",
       "      <th></th>\n",
       "      <th></th>\n",
       "      <th></th>\n",
       "      <th></th>\n",
       "    </tr>\n",
       "  </thead>\n",
       "  <tbody>\n",
       "    <tr>\n",
       "      <th>2000-03-31</th>\n",
       "      <td>35.337539</td>\n",
       "      <td>6.006248e+07</td>\n",
       "      <td>2000.0</td>\n",
       "      <td>1.0</td>\n",
       "      <td>2.030769</td>\n",
       "      <td>7.000000</td>\n",
       "      <td>15.753846</td>\n",
       "      <td>0.004415</td>\n",
       "      <td>1</td>\n",
       "      <td>1</td>\n",
       "      <td>3.619542</td>\n",
       "    </tr>\n",
       "    <tr>\n",
       "      <th>2000-06-30</th>\n",
       "      <td>39.758554</td>\n",
       "      <td>5.871569e+07</td>\n",
       "      <td>2000.0</td>\n",
       "      <td>2.0</td>\n",
       "      <td>5.030769</td>\n",
       "      <td>20.000000</td>\n",
       "      <td>15.738462</td>\n",
       "      <td>0.001991</td>\n",
       "      <td>2</td>\n",
       "      <td>4</td>\n",
       "      <td>3.715083</td>\n",
       "    </tr>\n",
       "    <tr>\n",
       "      <th>2000-09-30</th>\n",
       "      <td>41.806032</td>\n",
       "      <td>3.186951e+07</td>\n",
       "      <td>2000.0</td>\n",
       "      <td>3.0</td>\n",
       "      <td>8.000000</td>\n",
       "      <td>33.000000</td>\n",
       "      <td>16.000000</td>\n",
       "      <td>0.000282</td>\n",
       "      <td>3</td>\n",
       "      <td>9</td>\n",
       "      <td>NaN</td>\n",
       "    </tr>\n",
       "    <tr>\n",
       "      <th>2000-12-31</th>\n",
       "      <td>38.938070</td>\n",
       "      <td>2.292926e+07</td>\n",
       "      <td>2000.0</td>\n",
       "      <td>4.0</td>\n",
       "      <td>10.984615</td>\n",
       "      <td>46.000000</td>\n",
       "      <td>15.800000</td>\n",
       "      <td>-0.000032</td>\n",
       "      <td>4</td>\n",
       "      <td>16</td>\n",
       "      <td>NaN</td>\n",
       "    </tr>\n",
       "    <tr>\n",
       "      <th>2001-03-31</th>\n",
       "      <td>47.003284</td>\n",
       "      <td>3.917811e+07</td>\n",
       "      <td>2001.0</td>\n",
       "      <td>1.0</td>\n",
       "      <td>1.984615</td>\n",
       "      <td>7.000000</td>\n",
       "      <td>15.492308</td>\n",
       "      <td>0.002369</td>\n",
       "      <td>5</td>\n",
       "      <td>25</td>\n",
       "      <td>NaN</td>\n",
       "    </tr>\n",
       "    <tr>\n",
       "      <th>...</th>\n",
       "      <td>...</td>\n",
       "      <td>...</td>\n",
       "      <td>...</td>\n",
       "      <td>...</td>\n",
       "      <td>...</td>\n",
       "      <td>...</td>\n",
       "      <td>...</td>\n",
       "      <td>...</td>\n",
       "      <td>...</td>\n",
       "      <td>...</td>\n",
       "      <td>...</td>\n",
       "    </tr>\n",
       "    <tr>\n",
       "      <th>2021-12-31</th>\n",
       "      <td>2487.533726</td>\n",
       "      <td>6.163782e+06</td>\n",
       "      <td>2021.0</td>\n",
       "      <td>4.0</td>\n",
       "      <td>11.047619</td>\n",
       "      <td>46.000000</td>\n",
       "      <td>15.825397</td>\n",
       "      <td>-0.000822</td>\n",
       "      <td>88</td>\n",
       "      <td>7744</td>\n",
       "      <td>7.766858</td>\n",
       "    </tr>\n",
       "    <tr>\n",
       "      <th>2022-03-31</th>\n",
       "      <td>2419.769663</td>\n",
       "      <td>6.354418e+06</td>\n",
       "      <td>2022.0</td>\n",
       "      <td>1.0</td>\n",
       "      <td>2.016393</td>\n",
       "      <td>6.852459</td>\n",
       "      <td>15.442623</td>\n",
       "      <td>0.001913</td>\n",
       "      <td>89</td>\n",
       "      <td>7921</td>\n",
       "      <td>7.873537</td>\n",
       "    </tr>\n",
       "    <tr>\n",
       "      <th>2022-06-30</th>\n",
       "      <td>2611.850956</td>\n",
       "      <td>7.820119e+06</td>\n",
       "      <td>2022.0</td>\n",
       "      <td>2.0</td>\n",
       "      <td>5.048387</td>\n",
       "      <td>19.983871</td>\n",
       "      <td>16.048387</td>\n",
       "      <td>-0.000046</td>\n",
       "      <td>90</td>\n",
       "      <td>8100</td>\n",
       "      <td>7.858586</td>\n",
       "    </tr>\n",
       "    <tr>\n",
       "      <th>2022-09-30</th>\n",
       "      <td>2510.095044</td>\n",
       "      <td>6.736670e+06</td>\n",
       "      <td>2022.0</td>\n",
       "      <td>3.0</td>\n",
       "      <td>8.015873</td>\n",
       "      <td>32.873016</td>\n",
       "      <td>15.698413</td>\n",
       "      <td>-0.001213</td>\n",
       "      <td>91</td>\n",
       "      <td>8281</td>\n",
       "      <td>7.773910</td>\n",
       "    </tr>\n",
       "    <tr>\n",
       "      <th>2022-12-31</th>\n",
       "      <td>2553.101629</td>\n",
       "      <td>4.680960e+06</td>\n",
       "      <td>2022.0</td>\n",
       "      <td>4.0</td>\n",
       "      <td>11.048387</td>\n",
       "      <td>46.161290</td>\n",
       "      <td>16.000000</td>\n",
       "      <td>0.001180</td>\n",
       "      <td>92</td>\n",
       "      <td>8464</td>\n",
       "      <td>NaN</td>\n",
       "    </tr>\n",
       "  </tbody>\n",
       "</table>\n",
       "<p>92 rows × 11 columns</p>\n",
       "</div>"
      ],
      "text/plain": [
       "              Adj_Close        Volume    year  quarter      month       week  \\\n",
       "Date                                                                           \n",
       "2000-03-31    35.337539  6.006248e+07  2000.0      1.0   2.030769   7.000000   \n",
       "2000-06-30    39.758554  5.871569e+07  2000.0      2.0   5.030769  20.000000   \n",
       "2000-09-30    41.806032  3.186951e+07  2000.0      3.0   8.000000  33.000000   \n",
       "2000-12-31    38.938070  2.292926e+07  2000.0      4.0  10.984615  46.000000   \n",
       "2001-03-31    47.003284  3.917811e+07  2001.0      1.0   1.984615   7.000000   \n",
       "...                 ...           ...     ...      ...        ...        ...   \n",
       "2021-12-31  2487.533726  6.163782e+06  2021.0      4.0  11.047619  46.000000   \n",
       "2022-03-31  2419.769663  6.354418e+06  2022.0      1.0   2.016393   6.852459   \n",
       "2022-06-30  2611.850956  7.820119e+06  2022.0      2.0   5.048387  19.983871   \n",
       "2022-09-30  2510.095044  6.736670e+06  2022.0      3.0   8.015873  32.873016   \n",
       "2022-12-31  2553.101629  4.680960e+06  2022.0      4.0  11.048387  46.161290   \n",
       "\n",
       "                  day  Daily_Return   t  t_squared  log_Adj_Close  \n",
       "Date                                                               \n",
       "2000-03-31  15.753846      0.004415   1          1       3.619542  \n",
       "2000-06-30  15.738462      0.001991   2          4       3.715083  \n",
       "2000-09-30  16.000000      0.000282   3          9            NaN  \n",
       "2000-12-31  15.800000     -0.000032   4         16            NaN  \n",
       "2001-03-31  15.492308      0.002369   5         25            NaN  \n",
       "...               ...           ...  ..        ...            ...  \n",
       "2021-12-31  15.825397     -0.000822  88       7744       7.766858  \n",
       "2022-03-31  15.442623      0.001913  89       7921       7.873537  \n",
       "2022-06-30  16.048387     -0.000046  90       8100       7.858586  \n",
       "2022-09-30  15.698413     -0.001213  91       8281       7.773910  \n",
       "2022-12-31  16.000000      0.001180  92       8464            NaN  \n",
       "\n",
       "[92 rows x 11 columns]"
      ]
     },
     "execution_count": 44,
     "metadata": {},
     "output_type": "execute_result"
    }
   ],
   "source": [
    "# Data preprocessing for models\n",
    "Quarterlydata[\"t\"] = np.arange(1,93)\n",
    "Quarterlydata[\"t_squared\"] = Quarterlydata[\"t\"]*Quarterlydata[\"t\"]\n",
    "Quarterlydata[\"log_Adj_Close\"] = np.log(df[\"Adj_Close\"])\n",
    "Quarterlydata"
   ]
  },
  {
   "cell_type": "code",
   "execution_count": 45,
   "id": "d1bf5b52",
   "metadata": {
    "ExecuteTime": {
     "end_time": "2023-06-30T09:06:40.259563Z",
     "start_time": "2023-06-30T09:06:40.200582Z"
    }
   },
   "outputs": [
    {
     "data": {
      "text/html": [
       "<div>\n",
       "<style scoped>\n",
       "    .dataframe tbody tr th:only-of-type {\n",
       "        vertical-align: middle;\n",
       "    }\n",
       "\n",
       "    .dataframe tbody tr th {\n",
       "        vertical-align: top;\n",
       "    }\n",
       "\n",
       "    .dataframe thead th {\n",
       "        text-align: right;\n",
       "    }\n",
       "</style>\n",
       "<table border=\"1\" class=\"dataframe\">\n",
       "  <thead>\n",
       "    <tr style=\"text-align: right;\">\n",
       "      <th></th>\n",
       "      <th>Adj_Close</th>\n",
       "      <th>Volume</th>\n",
       "      <th>year</th>\n",
       "      <th>quarter</th>\n",
       "      <th>month</th>\n",
       "      <th>week</th>\n",
       "      <th>day</th>\n",
       "      <th>Daily_Return</th>\n",
       "      <th>t</th>\n",
       "      <th>t_squared</th>\n",
       "      <th>log_Adj_Close</th>\n",
       "      <th>Q1</th>\n",
       "      <th>Q2</th>\n",
       "      <th>Q3</th>\n",
       "      <th>Q4</th>\n",
       "    </tr>\n",
       "    <tr>\n",
       "      <th>Date</th>\n",
       "      <th></th>\n",
       "      <th></th>\n",
       "      <th></th>\n",
       "      <th></th>\n",
       "      <th></th>\n",
       "      <th></th>\n",
       "      <th></th>\n",
       "      <th></th>\n",
       "      <th></th>\n",
       "      <th></th>\n",
       "      <th></th>\n",
       "      <th></th>\n",
       "      <th></th>\n",
       "      <th></th>\n",
       "      <th></th>\n",
       "    </tr>\n",
       "  </thead>\n",
       "  <tbody>\n",
       "    <tr>\n",
       "      <th>2000-03-31</th>\n",
       "      <td>35.337539</td>\n",
       "      <td>6.006248e+07</td>\n",
       "      <td>2000.0</td>\n",
       "      <td>1.0</td>\n",
       "      <td>2.030769</td>\n",
       "      <td>7.000000</td>\n",
       "      <td>15.753846</td>\n",
       "      <td>0.004415</td>\n",
       "      <td>1</td>\n",
       "      <td>1</td>\n",
       "      <td>3.619542</td>\n",
       "      <td>1</td>\n",
       "      <td>0</td>\n",
       "      <td>0</td>\n",
       "      <td>0</td>\n",
       "    </tr>\n",
       "    <tr>\n",
       "      <th>2000-06-30</th>\n",
       "      <td>39.758554</td>\n",
       "      <td>5.871569e+07</td>\n",
       "      <td>2000.0</td>\n",
       "      <td>2.0</td>\n",
       "      <td>5.030769</td>\n",
       "      <td>20.000000</td>\n",
       "      <td>15.738462</td>\n",
       "      <td>0.001991</td>\n",
       "      <td>2</td>\n",
       "      <td>4</td>\n",
       "      <td>3.715083</td>\n",
       "      <td>0</td>\n",
       "      <td>1</td>\n",
       "      <td>0</td>\n",
       "      <td>0</td>\n",
       "    </tr>\n",
       "    <tr>\n",
       "      <th>2000-09-30</th>\n",
       "      <td>41.806032</td>\n",
       "      <td>3.186951e+07</td>\n",
       "      <td>2000.0</td>\n",
       "      <td>3.0</td>\n",
       "      <td>8.000000</td>\n",
       "      <td>33.000000</td>\n",
       "      <td>16.000000</td>\n",
       "      <td>0.000282</td>\n",
       "      <td>3</td>\n",
       "      <td>9</td>\n",
       "      <td>NaN</td>\n",
       "      <td>0</td>\n",
       "      <td>0</td>\n",
       "      <td>1</td>\n",
       "      <td>0</td>\n",
       "    </tr>\n",
       "    <tr>\n",
       "      <th>2000-12-31</th>\n",
       "      <td>38.938070</td>\n",
       "      <td>2.292926e+07</td>\n",
       "      <td>2000.0</td>\n",
       "      <td>4.0</td>\n",
       "      <td>10.984615</td>\n",
       "      <td>46.000000</td>\n",
       "      <td>15.800000</td>\n",
       "      <td>-0.000032</td>\n",
       "      <td>4</td>\n",
       "      <td>16</td>\n",
       "      <td>NaN</td>\n",
       "      <td>0</td>\n",
       "      <td>0</td>\n",
       "      <td>0</td>\n",
       "      <td>1</td>\n",
       "    </tr>\n",
       "    <tr>\n",
       "      <th>2001-03-31</th>\n",
       "      <td>47.003284</td>\n",
       "      <td>3.917811e+07</td>\n",
       "      <td>2001.0</td>\n",
       "      <td>1.0</td>\n",
       "      <td>1.984615</td>\n",
       "      <td>7.000000</td>\n",
       "      <td>15.492308</td>\n",
       "      <td>0.002369</td>\n",
       "      <td>5</td>\n",
       "      <td>25</td>\n",
       "      <td>NaN</td>\n",
       "      <td>1</td>\n",
       "      <td>0</td>\n",
       "      <td>0</td>\n",
       "      <td>0</td>\n",
       "    </tr>\n",
       "    <tr>\n",
       "      <th>...</th>\n",
       "      <td>...</td>\n",
       "      <td>...</td>\n",
       "      <td>...</td>\n",
       "      <td>...</td>\n",
       "      <td>...</td>\n",
       "      <td>...</td>\n",
       "      <td>...</td>\n",
       "      <td>...</td>\n",
       "      <td>...</td>\n",
       "      <td>...</td>\n",
       "      <td>...</td>\n",
       "      <td>...</td>\n",
       "      <td>...</td>\n",
       "      <td>...</td>\n",
       "      <td>...</td>\n",
       "    </tr>\n",
       "    <tr>\n",
       "      <th>2021-12-31</th>\n",
       "      <td>2487.533726</td>\n",
       "      <td>6.163782e+06</td>\n",
       "      <td>2021.0</td>\n",
       "      <td>4.0</td>\n",
       "      <td>11.047619</td>\n",
       "      <td>46.000000</td>\n",
       "      <td>15.825397</td>\n",
       "      <td>-0.000822</td>\n",
       "      <td>88</td>\n",
       "      <td>7744</td>\n",
       "      <td>7.766858</td>\n",
       "      <td>0</td>\n",
       "      <td>0</td>\n",
       "      <td>0</td>\n",
       "      <td>1</td>\n",
       "    </tr>\n",
       "    <tr>\n",
       "      <th>2022-03-31</th>\n",
       "      <td>2419.769663</td>\n",
       "      <td>6.354418e+06</td>\n",
       "      <td>2022.0</td>\n",
       "      <td>1.0</td>\n",
       "      <td>2.016393</td>\n",
       "      <td>6.852459</td>\n",
       "      <td>15.442623</td>\n",
       "      <td>0.001913</td>\n",
       "      <td>89</td>\n",
       "      <td>7921</td>\n",
       "      <td>7.873537</td>\n",
       "      <td>1</td>\n",
       "      <td>0</td>\n",
       "      <td>0</td>\n",
       "      <td>0</td>\n",
       "    </tr>\n",
       "    <tr>\n",
       "      <th>2022-06-30</th>\n",
       "      <td>2611.850956</td>\n",
       "      <td>7.820119e+06</td>\n",
       "      <td>2022.0</td>\n",
       "      <td>2.0</td>\n",
       "      <td>5.048387</td>\n",
       "      <td>19.983871</td>\n",
       "      <td>16.048387</td>\n",
       "      <td>-0.000046</td>\n",
       "      <td>90</td>\n",
       "      <td>8100</td>\n",
       "      <td>7.858586</td>\n",
       "      <td>0</td>\n",
       "      <td>1</td>\n",
       "      <td>0</td>\n",
       "      <td>0</td>\n",
       "    </tr>\n",
       "    <tr>\n",
       "      <th>2022-09-30</th>\n",
       "      <td>2510.095044</td>\n",
       "      <td>6.736670e+06</td>\n",
       "      <td>2022.0</td>\n",
       "      <td>3.0</td>\n",
       "      <td>8.015873</td>\n",
       "      <td>32.873016</td>\n",
       "      <td>15.698413</td>\n",
       "      <td>-0.001213</td>\n",
       "      <td>91</td>\n",
       "      <td>8281</td>\n",
       "      <td>7.773910</td>\n",
       "      <td>0</td>\n",
       "      <td>0</td>\n",
       "      <td>1</td>\n",
       "      <td>0</td>\n",
       "    </tr>\n",
       "    <tr>\n",
       "      <th>2022-12-31</th>\n",
       "      <td>2553.101629</td>\n",
       "      <td>4.680960e+06</td>\n",
       "      <td>2022.0</td>\n",
       "      <td>4.0</td>\n",
       "      <td>11.048387</td>\n",
       "      <td>46.161290</td>\n",
       "      <td>16.000000</td>\n",
       "      <td>0.001180</td>\n",
       "      <td>92</td>\n",
       "      <td>8464</td>\n",
       "      <td>NaN</td>\n",
       "      <td>0</td>\n",
       "      <td>0</td>\n",
       "      <td>0</td>\n",
       "      <td>1</td>\n",
       "    </tr>\n",
       "  </tbody>\n",
       "</table>\n",
       "<p>92 rows × 15 columns</p>\n",
       "</div>"
      ],
      "text/plain": [
       "              Adj_Close        Volume    year  quarter      month       week  \\\n",
       "Date                                                                           \n",
       "2000-03-31    35.337539  6.006248e+07  2000.0      1.0   2.030769   7.000000   \n",
       "2000-06-30    39.758554  5.871569e+07  2000.0      2.0   5.030769  20.000000   \n",
       "2000-09-30    41.806032  3.186951e+07  2000.0      3.0   8.000000  33.000000   \n",
       "2000-12-31    38.938070  2.292926e+07  2000.0      4.0  10.984615  46.000000   \n",
       "2001-03-31    47.003284  3.917811e+07  2001.0      1.0   1.984615   7.000000   \n",
       "...                 ...           ...     ...      ...        ...        ...   \n",
       "2021-12-31  2487.533726  6.163782e+06  2021.0      4.0  11.047619  46.000000   \n",
       "2022-03-31  2419.769663  6.354418e+06  2022.0      1.0   2.016393   6.852459   \n",
       "2022-06-30  2611.850956  7.820119e+06  2022.0      2.0   5.048387  19.983871   \n",
       "2022-09-30  2510.095044  6.736670e+06  2022.0      3.0   8.015873  32.873016   \n",
       "2022-12-31  2553.101629  4.680960e+06  2022.0      4.0  11.048387  46.161290   \n",
       "\n",
       "                  day  Daily_Return   t  t_squared  log_Adj_Close  Q1  Q2  Q3  \\\n",
       "Date                                                                            \n",
       "2000-03-31  15.753846      0.004415   1          1       3.619542   1   0   0   \n",
       "2000-06-30  15.738462      0.001991   2          4       3.715083   0   1   0   \n",
       "2000-09-30  16.000000      0.000282   3          9            NaN   0   0   1   \n",
       "2000-12-31  15.800000     -0.000032   4         16            NaN   0   0   0   \n",
       "2001-03-31  15.492308      0.002369   5         25            NaN   1   0   0   \n",
       "...               ...           ...  ..        ...            ...  ..  ..  ..   \n",
       "2021-12-31  15.825397     -0.000822  88       7744       7.766858   0   0   0   \n",
       "2022-03-31  15.442623      0.001913  89       7921       7.873537   1   0   0   \n",
       "2022-06-30  16.048387     -0.000046  90       8100       7.858586   0   1   0   \n",
       "2022-09-30  15.698413     -0.001213  91       8281       7.773910   0   0   1   \n",
       "2022-12-31  16.000000      0.001180  92       8464            NaN   0   0   0   \n",
       "\n",
       "            Q4  \n",
       "Date            \n",
       "2000-03-31   0  \n",
       "2000-06-30   0  \n",
       "2000-09-30   0  \n",
       "2000-12-31   1  \n",
       "2001-03-31   0  \n",
       "...         ..  \n",
       "2021-12-31   1  \n",
       "2022-03-31   0  \n",
       "2022-06-30   0  \n",
       "2022-09-30   0  \n",
       "2022-12-31   1  \n",
       "\n",
       "[92 rows x 15 columns]"
      ]
     },
     "execution_count": 45,
     "metadata": {},
     "output_type": "execute_result"
    }
   ],
   "source": [
    "# Getting dummy variables for Quarters Q1, Q2, Q3, Q4 \n",
    "Quarters_Dummies=pd.DataFrame(pd.get_dummies(Quarterlydata['quarter']))\n",
    "df=pd.concat([Quarterlydata,Quarters_Dummies],axis = 1)\n",
    "df=df.rename(columns={df.columns[11]: 'Q1', df.columns[12]: 'Q2',df.columns[13]: 'Q3',df.columns[14]: 'Q4'})#renaming the column\n",
    "df"
   ]
  },
  {
   "cell_type": "code",
   "execution_count": 46,
   "id": "4c65273f",
   "metadata": {
    "ExecuteTime": {
     "end_time": "2023-06-30T09:06:40.275043Z",
     "start_time": "2023-06-30T09:06:40.262921Z"
    }
   },
   "outputs": [
    {
     "data": {
      "text/plain": [
       "Adj_Close         0\n",
       "Volume            0\n",
       "year              0\n",
       "quarter           0\n",
       "month             0\n",
       "week              0\n",
       "day               0\n",
       "Daily_Return      0\n",
       "t                 0\n",
       "t_squared         0\n",
       "log_Adj_Close    28\n",
       "dtype: int64"
      ]
     },
     "execution_count": 46,
     "metadata": {},
     "output_type": "execute_result"
    }
   ],
   "source": [
    "Quarterlydata.isnull().sum()"
   ]
  },
  {
   "cell_type": "code",
   "execution_count": 47,
   "id": "2908c2e6",
   "metadata": {
    "ExecuteTime": {
     "end_time": "2023-06-30T09:06:40.306011Z",
     "start_time": "2023-06-30T09:06:40.277136Z"
    }
   },
   "outputs": [
    {
     "data": {
      "text/plain": [
       "Adj_Close        0\n",
       "Volume           0\n",
       "year             0\n",
       "quarter          0\n",
       "month            0\n",
       "week             0\n",
       "day              0\n",
       "Daily_Return     0\n",
       "t                0\n",
       "t_squared        0\n",
       "log_Adj_Close    0\n",
       "dtype: int64"
      ]
     },
     "execution_count": 47,
     "metadata": {},
     "output_type": "execute_result"
    }
   ],
   "source": [
    "Quarterlydata=Quarterlydata.fillna(Quarterlydata.mean()) #filled null values with their column mean value\n",
    "Quarterlydata.isnull().sum()"
   ]
  },
  {
   "cell_type": "code",
   "execution_count": 48,
   "id": "c24476cd",
   "metadata": {
    "ExecuteTime": {
     "end_time": "2023-06-30T09:06:40.321890Z",
     "start_time": "2023-06-30T09:06:40.308458Z"
    }
   },
   "outputs": [],
   "source": [
    "# Split the data into Train and Test\n",
    "Train = df.head(73)\n",
    "Test = df.tail(19)"
   ]
  },
  {
   "cell_type": "markdown",
   "id": "6bb12bd0",
   "metadata": {},
   "source": [
    "### Linear Method "
   ]
  },
  {
   "cell_type": "code",
   "execution_count": 49,
   "id": "8cbe2e6f",
   "metadata": {
    "ExecuteTime": {
     "end_time": "2023-06-30T09:06:40.492465Z",
     "start_time": "2023-06-30T09:06:40.323863Z"
    }
   },
   "outputs": [
    {
     "name": "stdout",
     "output_type": "stream",
     "text": [
      "MAPE Value for LINEAR =  55.542130853284036\n",
      "RMSE Value for LINEAR =  1182.300174490938\n"
     ]
    }
   ],
   "source": [
    "import statsmodels.formula.api as smf #importing smf for ols \n",
    "\n",
    "linear_model = smf.ols('Adj_Close~t',data=Train).fit()\n",
    "pred_linear =  pd.Series(linear_model.predict(pd.DataFrame(Test['t'])))\n",
    "rmse_linear = RMSE(Test.Adj_Close, pred_linear)\n",
    "mape_linear = MAPE(pred_linear,Test.Adj_Close) \n",
    "print(\"MAPE Value for LINEAR = \" ,mape_linear)\n",
    "print(\"RMSE Value for LINEAR = \" ,rmse_linear)"
   ]
  },
  {
   "cell_type": "markdown",
   "id": "3f5a5cae",
   "metadata": {},
   "source": [
    "### Exponential Method "
   ]
  },
  {
   "cell_type": "code",
   "execution_count": 50,
   "id": "01915626",
   "metadata": {
    "ExecuteTime": {
     "end_time": "2023-06-30T09:06:40.523737Z",
     "start_time": "2023-06-30T09:06:40.496469Z"
    }
   },
   "outputs": [
    {
     "name": "stdout",
     "output_type": "stream",
     "text": [
      "MAPE Value for EXPONENTIAL =  99.5435203548256\n",
      "RMSE Value for EXPONENTIAL =  1872.2391459515018\n"
     ]
    }
   ],
   "source": [
    "exp_model = smf.ols('log_Adj_Close~t',data=Train).fit()\n",
    "pred_exp = pd.Series(exp_model.predict(pd.DataFrame(Test['t'])))\n",
    "rmse_exp = RMSE(Test.Adj_Close, pred_exp)\n",
    "mape_exp = MAPE(pred_exp,Test.Adj_Close) \n",
    "print(\"MAPE Value for EXPONENTIAL = \" ,mape_exp)\n",
    "print(\"RMSE Value for EXPONENTIAL = \" ,rmse_exp)"
   ]
  },
  {
   "cell_type": "markdown",
   "id": "87d7c983",
   "metadata": {},
   "source": [
    "### Quadratic Method "
   ]
  },
  {
   "cell_type": "code",
   "execution_count": 51,
   "id": "5809fe06",
   "metadata": {
    "ExecuteTime": {
     "end_time": "2023-06-30T09:06:40.555944Z",
     "start_time": "2023-06-30T09:06:40.526692Z"
    }
   },
   "outputs": [
    {
     "name": "stdout",
     "output_type": "stream",
     "text": [
      "MAPE Value for QUADRATIC =  58.37097410606816\n",
      "RMSE Value for QUADRATIC =  1233.6891299977317\n"
     ]
    }
   ],
   "source": [
    "quad_model = smf.ols('Adj_Close~t+t_squared',data=Train).fit()\n",
    "pred_quad = pd.Series(quad_model.predict(Test[[\"t\",\"t_squared\"]]))\n",
    "rmse_quad = RMSE(Test.Adj_Close, pred_quad)\n",
    "mape_quad = MAPE(pred_quad,Test.Adj_Close) \n",
    "print(\"MAPE Value for QUADRATIC = \" ,mape_quad)\n",
    "print(\"RMSE Value for QUADRATIC = \" ,rmse_quad)"
   ]
  },
  {
   "cell_type": "markdown",
   "id": "8881f48b",
   "metadata": {},
   "source": [
    "### Additive Seasonality Method "
   ]
  },
  {
   "cell_type": "code",
   "execution_count": 52,
   "id": "8ceed8e7",
   "metadata": {
    "ExecuteTime": {
     "end_time": "2023-06-30T09:06:40.617580Z",
     "start_time": "2023-06-30T09:06:40.557628Z"
    }
   },
   "outputs": [
    {
     "name": "stdout",
     "output_type": "stream",
     "text": [
      "MAPE Value for ADDITIVE SEASONALITY =  80.31137414526118\n",
      "RMSE Value for ADDITIVE SEASONALITY =  1579.996319578437\n"
     ]
    }
   ],
   "source": [
    "add_sea_model = smf.ols('Adj_Close~Q1+Q2+Q3+Q4',data=Train).fit()\n",
    "pred_add_sea = pd.Series(add_sea_model.predict(Test[['Q1','Q2','Q3','Q4']]))\n",
    "rmse_add_sea = RMSE(Test.Adj_Close, pred_add_sea)\n",
    "mape_add_sea = MAPE(pred_add_sea,Test.Adj_Close) \n",
    "print(\"MAPE Value for ADDITIVE SEASONALITY = \" ,mape_add_sea)\n",
    "print(\"RMSE Value for ADDITIVE SEASONALITY = \" ,rmse_add_sea)"
   ]
  },
  {
   "cell_type": "markdown",
   "id": "671efcf5",
   "metadata": {},
   "source": [
    "### Multipicative Seasonality Method"
   ]
  },
  {
   "cell_type": "code",
   "execution_count": 53,
   "id": "33471a81",
   "metadata": {
    "ExecuteTime": {
     "end_time": "2023-06-30T09:06:40.664544Z",
     "start_time": "2023-06-30T09:06:40.620547Z"
    }
   },
   "outputs": [
    {
     "name": "stdout",
     "output_type": "stream",
     "text": [
      "MAPE Value for MULTIPLICATIVE SEASONALITY =  99.66302742805787\n",
      "RMSE Value for MULTIPLICATIVE SEASONALITY =  1874.2169757173494\n"
     ]
    }
   ],
   "source": [
    "mult_sea_model = smf.ols('log_Adj_Close~Q1+Q2+Q3+Q4',data = Train).fit()\n",
    "pred_mult_sea = pd.Series(mult_sea_model.predict(Test))\n",
    "rmse_mult_sea = RMSE(Test.Adj_Close, pred_mult_sea)\n",
    "mape_mult_sea = MAPE(pred_mult_sea,Test.Adj_Close) \n",
    "print(\"MAPE Value for MULTIPLICATIVE SEASONALITY = \" ,mape_mult_sea)\n",
    "print(\"RMSE Value for MULTIPLICATIVE SEASONALITY = \" ,rmse_mult_sea)"
   ]
  },
  {
   "cell_type": "markdown",
   "id": "ed8bdc3e",
   "metadata": {},
   "source": [
    "### Multiplicative Additive Seasonality Method"
   ]
  },
  {
   "cell_type": "code",
   "execution_count": 54,
   "id": "d2d75413",
   "metadata": {
    "ExecuteTime": {
     "end_time": "2023-06-30T09:06:40.711995Z",
     "start_time": "2023-06-30T09:06:40.667540Z"
    }
   },
   "outputs": [
    {
     "name": "stdout",
     "output_type": "stream",
     "text": [
      "MAPE Value for MULTIPLICATIVE ADDITIVE SEASONALITY =  99.54331563289219\n",
      "RMSE Value for MULTIPLICATIVE ADDITIVE SEASONALITY =  1872.2369705845356\n"
     ]
    }
   ],
   "source": [
    "mul_add_sea_model = smf.ols('log_Adj_Close~t+Q1+Q2+Q3+Q4',data = Train).fit()\n",
    "pred_mult_add_sea = pd.Series(mul_add_sea_model.predict(Test))\n",
    "rmse_mult_add_sea = RMSE(Test.Adj_Close, pred_mult_add_sea)\n",
    "mape_mult_add_sea = MAPE(pred_mult_add_sea,Test.Adj_Close) \n",
    "print(\"MAPE Value for MULTIPLICATIVE ADDITIVE SEASONALITY = \" ,mape_mult_add_sea)\n",
    "print(\"RMSE Value for MULTIPLICATIVE ADDITIVE SEASONALITY = \" ,rmse_mult_add_sea)"
   ]
  },
  {
   "cell_type": "code",
   "execution_count": 55,
   "id": "9666f399",
   "metadata": {
    "ExecuteTime": {
     "end_time": "2023-06-30T09:06:40.758588Z",
     "start_time": "2023-06-30T09:06:40.715980Z"
    }
   },
   "outputs": [
    {
     "data": {
      "text/html": [
       "<div>\n",
       "<style scoped>\n",
       "    .dataframe tbody tr th:only-of-type {\n",
       "        vertical-align: middle;\n",
       "    }\n",
       "\n",
       "    .dataframe tbody tr th {\n",
       "        vertical-align: top;\n",
       "    }\n",
       "\n",
       "    .dataframe thead th {\n",
       "        text-align: right;\n",
       "    }\n",
       "</style>\n",
       "<table border=\"1\" class=\"dataframe\">\n",
       "  <thead>\n",
       "    <tr style=\"text-align: right;\">\n",
       "      <th></th>\n",
       "      <th>MODEL</th>\n",
       "      <th>MAPE_Values</th>\n",
       "      <th>RMSE_Values</th>\n",
       "    </tr>\n",
       "  </thead>\n",
       "  <tbody>\n",
       "    <tr>\n",
       "      <th>0</th>\n",
       "      <td>linear_model</td>\n",
       "      <td>55.542131</td>\n",
       "      <td>1182.300174</td>\n",
       "    </tr>\n",
       "    <tr>\n",
       "      <th>2</th>\n",
       "      <td>quadratic_model</td>\n",
       "      <td>58.370974</td>\n",
       "      <td>1233.689130</td>\n",
       "    </tr>\n",
       "    <tr>\n",
       "      <th>3</th>\n",
       "      <td>additive_seasonality_model</td>\n",
       "      <td>80.311374</td>\n",
       "      <td>1579.996320</td>\n",
       "    </tr>\n",
       "    <tr>\n",
       "      <th>5</th>\n",
       "      <td>multiplicative_additive_model</td>\n",
       "      <td>99.543316</td>\n",
       "      <td>1872.236971</td>\n",
       "    </tr>\n",
       "    <tr>\n",
       "      <th>1</th>\n",
       "      <td>exponential_model</td>\n",
       "      <td>99.543520</td>\n",
       "      <td>1872.239146</td>\n",
       "    </tr>\n",
       "    <tr>\n",
       "      <th>4</th>\n",
       "      <td>multiplicative_seasonality_model</td>\n",
       "      <td>99.663027</td>\n",
       "      <td>1874.216976</td>\n",
       "    </tr>\n",
       "  </tbody>\n",
       "</table>\n",
       "</div>"
      ],
      "text/plain": [
       "                              MODEL  MAPE_Values  RMSE_Values\n",
       "0                      linear_model    55.542131  1182.300174\n",
       "2                   quadratic_model    58.370974  1233.689130\n",
       "3        additive_seasonality_model    80.311374  1579.996320\n",
       "5     multiplicative_additive_model    99.543316  1872.236971\n",
       "1                 exponential_model    99.543520  1872.239146\n",
       "4  multiplicative_seasonality_model    99.663027  1874.216976"
      ]
     },
     "execution_count": 55,
     "metadata": {},
     "output_type": "execute_result"
    }
   ],
   "source": [
    "#Compare the results \n",
    "\n",
    "data = {\"MODEL\":pd.Series([\"linear_model\",\"exponential_model\",\"quadratic_model\",\"additive_seasonality_model\",\"multiplicative_seasonality_model\",\"multiplicative_additive_model\"]),\n",
    "        \"MAPE_Values\":pd.Series([mape_linear,mape_exp,mape_quad,mape_add_sea,mape_mult_sea,mape_mult_add_sea]),\n",
    "        \"RMSE_Values\":pd.Series([rmse_linear,rmse_exp,rmse_quad,rmse_add_sea,rmse_mult_sea,rmse_mult_add_sea])}\n",
    "table_model_based=pd.DataFrame(data)\n",
    "table_model_based.sort_values(['RMSE_Values','MAPE_Values'],ascending = [True, True]) "
   ]
  },
  {
   "cell_type": "markdown",
   "id": "44784b93",
   "metadata": {},
   "source": [
    "### Concating both Data Driven Methods and Model based Methods Results "
   ]
  },
  {
   "cell_type": "code",
   "execution_count": 56,
   "id": "0bd48859",
   "metadata": {
    "ExecuteTime": {
     "end_time": "2023-06-30T09:06:40.804198Z",
     "start_time": "2023-06-30T09:06:40.763530Z"
    }
   },
   "outputs": [
    {
     "data": {
      "text/html": [
       "<div>\n",
       "<style scoped>\n",
       "    .dataframe tbody tr th:only-of-type {\n",
       "        vertical-align: middle;\n",
       "    }\n",
       "\n",
       "    .dataframe tbody tr th {\n",
       "        vertical-align: top;\n",
       "    }\n",
       "\n",
       "    .dataframe thead th {\n",
       "        text-align: right;\n",
       "    }\n",
       "</style>\n",
       "<table border=\"1\" class=\"dataframe\">\n",
       "  <thead>\n",
       "    <tr style=\"text-align: right;\">\n",
       "      <th></th>\n",
       "      <th>MODEL</th>\n",
       "      <th>MAPE_Values</th>\n",
       "      <th>RMSE_Values</th>\n",
       "    </tr>\n",
       "  </thead>\n",
       "  <tbody>\n",
       "    <tr>\n",
       "      <th>3</th>\n",
       "      <td>holtw_add_add_model</td>\n",
       "      <td>13.029693</td>\n",
       "      <td>343.705363</td>\n",
       "    </tr>\n",
       "    <tr>\n",
       "      <th>4</th>\n",
       "      <td>holtw_mult_add_model</td>\n",
       "      <td>19.205554</td>\n",
       "      <td>377.953315</td>\n",
       "    </tr>\n",
       "    <tr>\n",
       "      <th>1</th>\n",
       "      <td>holt_model</td>\n",
       "      <td>15.675039</td>\n",
       "      <td>428.600390</td>\n",
       "    </tr>\n",
       "    <tr>\n",
       "      <th>2</th>\n",
       "      <td>holt_winter_model</td>\n",
       "      <td>44.174789</td>\n",
       "      <td>1059.797141</td>\n",
       "    </tr>\n",
       "    <tr>\n",
       "      <th>0</th>\n",
       "      <td>linear_model</td>\n",
       "      <td>55.542131</td>\n",
       "      <td>1182.300174</td>\n",
       "    </tr>\n",
       "    <tr>\n",
       "      <th>2</th>\n",
       "      <td>quadratic_model</td>\n",
       "      <td>58.370974</td>\n",
       "      <td>1233.689130</td>\n",
       "    </tr>\n",
       "    <tr>\n",
       "      <th>0</th>\n",
       "      <td>ses_model</td>\n",
       "      <td>57.412700</td>\n",
       "      <td>1244.608396</td>\n",
       "    </tr>\n",
       "    <tr>\n",
       "      <th>3</th>\n",
       "      <td>additive_seasonality_model</td>\n",
       "      <td>80.311374</td>\n",
       "      <td>1579.996320</td>\n",
       "    </tr>\n",
       "    <tr>\n",
       "      <th>5</th>\n",
       "      <td>multiplicative_additive_model</td>\n",
       "      <td>99.543316</td>\n",
       "      <td>1872.236971</td>\n",
       "    </tr>\n",
       "    <tr>\n",
       "      <th>1</th>\n",
       "      <td>exponential_model</td>\n",
       "      <td>99.543520</td>\n",
       "      <td>1872.239146</td>\n",
       "    </tr>\n",
       "    <tr>\n",
       "      <th>4</th>\n",
       "      <td>multiplicative_seasonality_model</td>\n",
       "      <td>99.663027</td>\n",
       "      <td>1874.216976</td>\n",
       "    </tr>\n",
       "  </tbody>\n",
       "</table>\n",
       "</div>"
      ],
      "text/plain": [
       "                              MODEL  MAPE_Values  RMSE_Values\n",
       "3               holtw_add_add_model    13.029693   343.705363\n",
       "4              holtw_mult_add_model    19.205554   377.953315\n",
       "1                        holt_model    15.675039   428.600390\n",
       "2                 holt_winter_model    44.174789  1059.797141\n",
       "0                      linear_model    55.542131  1182.300174\n",
       "2                   quadratic_model    58.370974  1233.689130\n",
       "0                         ses_model    57.412700  1244.608396\n",
       "3        additive_seasonality_model    80.311374  1579.996320\n",
       "5     multiplicative_additive_model    99.543316  1872.236971\n",
       "1                 exponential_model    99.543520  1872.239146\n",
       "4  multiplicative_seasonality_model    99.663027  1874.216976"
      ]
     },
     "execution_count": 56,
     "metadata": {},
     "output_type": "execute_result"
    }
   ],
   "source": [
    "Methods=[table_data_driven,table_model_based]\n",
    "Results=pd.concat(Methods)\n",
    "Results.sort_values(['RMSE_Values','MAPE_Values'],ascending = [True, True])"
   ]
  },
  {
   "cell_type": "markdown",
   "id": "61917ab6",
   "metadata": {},
   "source": [
    "From the both **Data driven methods** and **Model based methods** <br> \n",
    "**Holts winter exponential smoothing with additive seasonality and additive trend** has **Lowest MAPE and RMSE Values** as **13.215355 &  350.019695** respectively"
   ]
  },
  {
   "cell_type": "markdown",
   "id": "0176016e",
   "metadata": {},
   "source": [
    "###  ARIMA Model"
   ]
  },
  {
   "cell_type": "code",
   "execution_count": 57,
   "id": "0f776b17",
   "metadata": {
    "ExecuteTime": {
     "end_time": "2023-06-30T09:07:42.256975Z",
     "start_time": "2023-06-30T09:06:40.808186Z"
    }
   },
   "outputs": [
    {
     "name": "stdout",
     "output_type": "stream",
     "text": [
      "Requirement already satisfied: pmdarima in c:\\users\\charan\\anaconda3\\lib\\site-packages (2.0.3)\n",
      "Requirement already satisfied: statsmodels>=0.13.2 in c:\\users\\charan\\anaconda3\\lib\\site-packages (from pmdarima) (0.13.5)\n",
      "Requirement already satisfied: setuptools!=50.0.0,>=38.6.0 in c:\\users\\charan\\anaconda3\\lib\\site-packages (from pmdarima) (58.0.4)\n",
      "Requirement already satisfied: scikit-learn>=0.22 in c:\\users\\charan\\anaconda3\\lib\\site-packages (from pmdarima) (1.1.3)\n",
      "Requirement already satisfied: pandas>=0.19 in c:\\users\\charan\\anaconda3\\lib\\site-packages (from pmdarima) (1.3.4)\n",
      "Requirement already satisfied: Cython!=0.29.18,!=0.29.31,>=0.29 in c:\\users\\charan\\anaconda3\\lib\\site-packages (from pmdarima) (0.29.24)\n",
      "Requirement already satisfied: numpy>=1.21.2 in c:\\users\\charan\\anaconda3\\lib\\site-packages (from pmdarima) (1.22.4)\n",
      "Requirement already satisfied: scipy>=1.3.2 in c:\\users\\charan\\anaconda3\\lib\\site-packages (from pmdarima) (1.7.1)\n",
      "Requirement already satisfied: joblib>=0.11 in c:\\users\\charan\\anaconda3\\lib\\site-packages (from pmdarima) (1.2.0)\n",
      "Requirement already satisfied: urllib3 in c:\\users\\charan\\anaconda3\\lib\\site-packages (from pmdarima) (1.26.7)\n",
      "Requirement already satisfied: pytz>=2017.3 in c:\\users\\charan\\anaconda3\\lib\\site-packages (from pandas>=0.19->pmdarima) (2021.3)\n",
      "Requirement already satisfied: python-dateutil>=2.7.3 in c:\\users\\charan\\anaconda3\\lib\\site-packages (from pandas>=0.19->pmdarima) (2.8.2)\n",
      "Requirement already satisfied: six>=1.5 in c:\\users\\charan\\anaconda3\\lib\\site-packages (from python-dateutil>=2.7.3->pandas>=0.19->pmdarima) (1.16.0)\n",
      "Requirement already satisfied: threadpoolctl>=2.0.0 in c:\\users\\charan\\anaconda3\\lib\\site-packages (from scikit-learn>=0.22->pmdarima) (2.2.0)\n",
      "Requirement already satisfied: packaging>=21.3 in c:\\users\\charan\\anaconda3\\lib\\site-packages (from statsmodels>=0.13.2->pmdarima) (23.0)\n",
      "Requirement already satisfied: patsy>=0.5.2 in c:\\users\\charan\\anaconda3\\lib\\site-packages (from statsmodels>=0.13.2->pmdarima) (0.5.2)\n",
      "Performing stepwise search to minimize aic\n",
      " ARIMA(1,1,1)(0,1,1)[12]             : AIC=966.606, Time=0.60 sec\n",
      " ARIMA(0,1,0)(0,1,0)[12]             : AIC=966.135, Time=0.05 sec\n",
      " ARIMA(1,1,0)(1,1,0)[12]             : AIC=964.680, Time=0.26 sec\n",
      " ARIMA(0,1,1)(0,1,1)[12]             : AIC=964.652, Time=0.31 sec\n",
      " ARIMA(0,1,1)(0,1,0)[12]             : AIC=965.423, Time=0.25 sec\n",
      " ARIMA(0,1,1)(1,1,1)[12]             : AIC=966.025, Time=0.53 sec\n",
      " ARIMA(0,1,1)(0,1,2)[12]             : AIC=966.610, Time=0.76 sec\n",
      " ARIMA(0,1,1)(1,1,0)[12]             : AIC=964.712, Time=0.24 sec\n",
      " ARIMA(0,1,1)(1,1,2)[12]             : AIC=967.885, Time=1.90 sec\n",
      " ARIMA(0,1,0)(0,1,1)[12]             : AIC=964.081, Time=0.25 sec\n",
      " ARIMA(0,1,0)(1,1,1)[12]             : AIC=965.858, Time=0.51 sec\n",
      " ARIMA(0,1,0)(0,1,2)[12]             : AIC=965.983, Time=1.04 sec\n",
      " ARIMA(0,1,0)(1,1,0)[12]             : AIC=964.347, Time=0.17 sec\n",
      " ARIMA(0,1,0)(1,1,2)[12]             : AIC=inf, Time=1.27 sec\n",
      " ARIMA(1,1,0)(0,1,1)[12]             : AIC=964.626, Time=0.26 sec\n",
      " ARIMA(0,1,0)(0,1,1)[12] intercept   : AIC=963.286, Time=0.29 sec\n",
      " ARIMA(0,1,0)(0,1,0)[12] intercept   : AIC=966.820, Time=0.06 sec\n",
      " ARIMA(0,1,0)(1,1,1)[12] intercept   : AIC=965.876, Time=0.28 sec\n",
      " ARIMA(0,1,0)(0,1,2)[12] intercept   : AIC=964.958, Time=0.79 sec\n",
      " ARIMA(0,1,0)(1,1,0)[12] intercept   : AIC=964.065, Time=0.35 sec\n",
      " ARIMA(0,1,0)(1,1,2)[12] intercept   : AIC=inf, Time=1.51 sec\n",
      " ARIMA(1,1,0)(0,1,1)[12] intercept   : AIC=963.215, Time=0.38 sec\n",
      " ARIMA(1,1,0)(0,1,0)[12] intercept   : AIC=965.408, Time=0.15 sec\n",
      " ARIMA(1,1,0)(1,1,1)[12] intercept   : AIC=965.285, Time=0.88 sec\n",
      " ARIMA(1,1,0)(0,1,2)[12] intercept   : AIC=964.906, Time=0.69 sec\n",
      " ARIMA(1,1,0)(1,1,0)[12] intercept   : AIC=963.614, Time=0.51 sec\n",
      " ARIMA(1,1,0)(1,1,2)[12] intercept   : AIC=inf, Time=2.56 sec\n",
      " ARIMA(2,1,0)(0,1,1)[12] intercept   : AIC=964.740, Time=0.62 sec\n",
      " ARIMA(1,1,1)(0,1,1)[12] intercept   : AIC=965.063, Time=0.69 sec\n",
      " ARIMA(0,1,1)(0,1,1)[12] intercept   : AIC=963.066, Time=0.53 sec\n",
      " ARIMA(0,1,1)(0,1,0)[12] intercept   : AIC=965.106, Time=0.20 sec\n",
      " ARIMA(0,1,1)(1,1,1)[12] intercept   : AIC=965.044, Time=0.79 sec\n",
      " ARIMA(0,1,1)(0,1,2)[12] intercept   : AIC=964.693, Time=1.41 sec\n",
      " ARIMA(0,1,1)(1,1,0)[12] intercept   : AIC=963.478, Time=0.38 sec\n",
      " ARIMA(0,1,1)(1,1,2)[12] intercept   : AIC=inf, Time=1.92 sec\n",
      " ARIMA(0,1,2)(0,1,1)[12] intercept   : AIC=965.053, Time=0.65 sec\n",
      " ARIMA(1,1,2)(0,1,1)[12] intercept   : AIC=958.629, Time=1.16 sec\n",
      " ARIMA(1,1,2)(0,1,0)[12] intercept   : AIC=inf, Time=0.52 sec\n",
      " ARIMA(1,1,2)(1,1,1)[12] intercept   : AIC=967.620, Time=1.43 sec\n",
      " ARIMA(1,1,2)(0,1,2)[12] intercept   : AIC=960.094, Time=2.48 sec\n",
      " ARIMA(1,1,2)(1,1,0)[12] intercept   : AIC=965.660, Time=1.36 sec\n",
      " ARIMA(1,1,2)(1,1,2)[12] intercept   : AIC=inf, Time=3.25 sec\n",
      " ARIMA(2,1,2)(0,1,1)[12] intercept   : AIC=945.215, Time=1.42 sec\n",
      " ARIMA(2,1,2)(0,1,0)[12] intercept   : AIC=944.840, Time=0.82 sec\n",
      " ARIMA(2,1,2)(1,1,0)[12] intercept   : AIC=946.723, Time=1.57 sec\n",
      " ARIMA(2,1,2)(1,1,1)[12] intercept   : AIC=970.808, Time=1.37 sec\n",
      " ARIMA(2,1,1)(0,1,0)[12] intercept   : AIC=954.136, Time=0.64 sec\n",
      " ARIMA(3,1,2)(0,1,0)[12] intercept   : AIC=947.705, Time=0.74 sec\n",
      " ARIMA(2,1,3)(0,1,0)[12] intercept   : AIC=947.449, Time=0.96 sec\n",
      " ARIMA(1,1,1)(0,1,0)[12] intercept   : AIC=967.097, Time=0.39 sec\n",
      " ARIMA(1,1,3)(0,1,0)[12] intercept   : AIC=958.408, Time=0.74 sec\n",
      " ARIMA(3,1,1)(0,1,0)[12] intercept   : AIC=951.457, Time=0.64 sec\n",
      " ARIMA(3,1,3)(0,1,0)[12] intercept   : AIC=948.514, Time=1.03 sec\n",
      " ARIMA(2,1,2)(0,1,0)[12]             : AIC=945.519, Time=0.44 sec\n",
      "\n",
      "Best model:  ARIMA(2,1,2)(0,1,0)[12] intercept\n",
      "Total fit time: 45.148 seconds\n"
     ]
    },
    {
     "data": {
      "text/html": [
       "<table class=\"simpletable\">\n",
       "<caption>SARIMAX Results</caption>\n",
       "<tr>\n",
       "  <th>Dep. Variable:</th>                  <td>y</td>                <th>  No. Observations:  </th>    <td>92</td>   \n",
       "</tr>\n",
       "<tr>\n",
       "  <th>Model:</th>           <td>SARIMAX(2, 1, 2)x(0, 1, [], 12)</td> <th>  Log Likelihood     </th> <td>-466.420</td>\n",
       "</tr>\n",
       "<tr>\n",
       "  <th>Date:</th>                   <td>Fri, 30 Jun 2023</td>         <th>  AIC                </th>  <td>944.840</td>\n",
       "</tr>\n",
       "<tr>\n",
       "  <th>Time:</th>                       <td>14:37:42</td>             <th>  BIC                </th>  <td>959.056</td>\n",
       "</tr>\n",
       "<tr>\n",
       "  <th>Sample:</th>                    <td>03-31-2000</td>            <th>  HQIC               </th>  <td>950.535</td>\n",
       "</tr>\n",
       "<tr>\n",
       "  <th></th>                          <td>- 12-31-2022</td>           <th>                     </th>     <td> </td>   \n",
       "</tr>\n",
       "<tr>\n",
       "  <th>Covariance Type:</th>               <td>opg</td>               <th>                     </th>     <td> </td>   \n",
       "</tr>\n",
       "</table>\n",
       "<table class=\"simpletable\">\n",
       "<tr>\n",
       "      <td></td>         <th>coef</th>     <th>std err</th>      <th>z</th>      <th>P>|z|</th>  <th>[0.025</th>    <th>0.975]</th>  \n",
       "</tr>\n",
       "<tr>\n",
       "  <th>intercept</th> <td>   53.9282</td> <td>   36.770</td> <td>    1.467</td> <td> 0.142</td> <td>  -18.140</td> <td>  125.996</td>\n",
       "</tr>\n",
       "<tr>\n",
       "  <th>ar.L1</th>     <td>   -1.5280</td> <td>    0.094</td> <td>  -16.310</td> <td> 0.000</td> <td>   -1.712</td> <td>   -1.344</td>\n",
       "</tr>\n",
       "<tr>\n",
       "  <th>ar.L2</th>     <td>   -0.9397</td> <td>    0.092</td> <td>  -10.195</td> <td> 0.000</td> <td>   -1.120</td> <td>   -0.759</td>\n",
       "</tr>\n",
       "<tr>\n",
       "  <th>ma.L1</th>     <td>    1.5555</td> <td>    0.142</td> <td>   10.979</td> <td> 0.000</td> <td>    1.278</td> <td>    1.833</td>\n",
       "</tr>\n",
       "<tr>\n",
       "  <th>ma.L2</th>     <td>    0.7592</td> <td>    0.145</td> <td>    5.248</td> <td> 0.000</td> <td>    0.476</td> <td>    1.043</td>\n",
       "</tr>\n",
       "<tr>\n",
       "  <th>sigma2</th>    <td> 7610.9647</td> <td> 1179.972</td> <td>    6.450</td> <td> 0.000</td> <td> 5298.262</td> <td> 9923.668</td>\n",
       "</tr>\n",
       "</table>\n",
       "<table class=\"simpletable\">\n",
       "<tr>\n",
       "  <th>Ljung-Box (L1) (Q):</th>     <td>0.10</td> <th>  Jarque-Bera (JB):  </th> <td>18.15</td>\n",
       "</tr>\n",
       "<tr>\n",
       "  <th>Prob(Q):</th>                <td>0.75</td> <th>  Prob(JB):          </th> <td>0.00</td> \n",
       "</tr>\n",
       "<tr>\n",
       "  <th>Heteroskedasticity (H):</th> <td>2.98</td> <th>  Skew:              </th> <td>0.56</td> \n",
       "</tr>\n",
       "<tr>\n",
       "  <th>Prob(H) (two-sided):</th>    <td>0.01</td> <th>  Kurtosis:          </th> <td>5.06</td> \n",
       "</tr>\n",
       "</table><br/><br/>Warnings:<br/>[1] Covariance matrix calculated using the outer product of gradients (complex-step)."
      ],
      "text/plain": [
       "<class 'statsmodels.iolib.summary.Summary'>\n",
       "\"\"\"\n",
       "                                      SARIMAX Results                                      \n",
       "===========================================================================================\n",
       "Dep. Variable:                                   y   No. Observations:                   92\n",
       "Model:             SARIMAX(2, 1, 2)x(0, 1, [], 12)   Log Likelihood                -466.420\n",
       "Date:                             Fri, 30 Jun 2023   AIC                            944.840\n",
       "Time:                                     14:37:42   BIC                            959.056\n",
       "Sample:                                 03-31-2000   HQIC                           950.535\n",
       "                                      - 12-31-2022                                         \n",
       "Covariance Type:                               opg                                         \n",
       "==============================================================================\n",
       "                 coef    std err          z      P>|z|      [0.025      0.975]\n",
       "------------------------------------------------------------------------------\n",
       "intercept     53.9282     36.770      1.467      0.142     -18.140     125.996\n",
       "ar.L1         -1.5280      0.094    -16.310      0.000      -1.712      -1.344\n",
       "ar.L2         -0.9397      0.092    -10.195      0.000      -1.120      -0.759\n",
       "ma.L1          1.5555      0.142     10.979      0.000       1.278       1.833\n",
       "ma.L2          0.7592      0.145      5.248      0.000       0.476       1.043\n",
       "sigma2      7610.9647   1179.972      6.450      0.000    5298.262    9923.668\n",
       "===================================================================================\n",
       "Ljung-Box (L1) (Q):                   0.10   Jarque-Bera (JB):                18.15\n",
       "Prob(Q):                              0.75   Prob(JB):                         0.00\n",
       "Heteroskedasticity (H):               2.98   Skew:                             0.56\n",
       "Prob(H) (two-sided):                  0.01   Kurtosis:                         5.06\n",
       "===================================================================================\n",
       "\n",
       "Warnings:\n",
       "[1] Covariance matrix calculated using the outer product of gradients (complex-step).\n",
       "\"\"\""
      ]
     },
     "execution_count": 57,
     "metadata": {},
     "output_type": "execute_result"
    }
   ],
   "source": [
    "# Installing pmdarima library\n",
    "!pip install pmdarima\n",
    "\n",
    "# Import the library\n",
    "from pmdarima import auto_arima\n",
    "\n",
    "# Ignore harmless warnings\n",
    "import warnings\n",
    "warnings.filterwarnings(\"ignore\")\n",
    "\n",
    "# Fit auto_arima function to Reliance dataset\n",
    "stepwise_fit = auto_arima(df['Adj_Close'], start_p = 1, start_q = 1, #saying start the p and q values with 1 respectively\n",
    "                        max_p = 3, max_q = 3, m = 12, #end with 3 \n",
    "                        start_P = 0, seasonal = True, #also check seasonality \n",
    "                        d = None, D = 1, trace = True, #integrated i.e differency as 1\n",
    "                        error_action ='ignore', # we don't want to know if an order does not work\n",
    "                        suppress_warnings = True, # we don't want convergence warnings\n",
    "                        stepwise = True) # set to stepwise\n",
    "\n",
    "# To print the summary\n",
    "stepwise_fit.summary()\n"
   ]
  },
  {
   "cell_type": "markdown",
   "id": "9b0d7d01",
   "metadata": {},
   "source": [
    "From the above result we can see that the best values for (p,d,q) to our dataset are (2,1,2) and seasonal order is (0,1,0,12)"
   ]
  },
  {
   "cell_type": "markdown",
   "id": "c6cb517f",
   "metadata": {},
   "source": [
    "**Fitting ARIMA Model to Reliance dataset**"
   ]
  },
  {
   "cell_type": "code",
   "execution_count": 58,
   "id": "baf3a3bd",
   "metadata": {
    "ExecuteTime": {
     "end_time": "2023-06-30T09:07:42.773431Z",
     "start_time": "2023-06-30T09:07:42.261311Z"
    }
   },
   "outputs": [
    {
     "data": {
      "text/html": [
       "<table class=\"simpletable\">\n",
       "<caption>SARIMAX Results</caption>\n",
       "<tr>\n",
       "  <th>Dep. Variable:</th>              <td>Adj_Close</td>            <th>  No. Observations:  </th>    <td>80</td>   \n",
       "</tr>\n",
       "<tr>\n",
       "  <th>Model:</th>           <td>SARIMAX(2, 1, 2)x(0, 1, [], 12)</td> <th>  Log Likelihood     </th> <td>-383.327</td>\n",
       "</tr>\n",
       "<tr>\n",
       "  <th>Date:</th>                   <td>Fri, 30 Jun 2023</td>         <th>  AIC                </th>  <td>776.654</td>\n",
       "</tr>\n",
       "<tr>\n",
       "  <th>Time:</th>                       <td>14:37:42</td>             <th>  BIC                </th>  <td>787.677</td>\n",
       "</tr>\n",
       "<tr>\n",
       "  <th>Sample:</th>                    <td>03-31-2000</td>            <th>  HQIC               </th>  <td>781.016</td>\n",
       "</tr>\n",
       "<tr>\n",
       "  <th></th>                          <td>- 12-31-2019</td>           <th>                     </th>     <td> </td>   \n",
       "</tr>\n",
       "<tr>\n",
       "  <th>Covariance Type:</th>               <td>opg</td>               <th>                     </th>     <td> </td>   \n",
       "</tr>\n",
       "</table>\n",
       "<table class=\"simpletable\">\n",
       "<tr>\n",
       "     <td></td>       <th>coef</th>     <th>std err</th>      <th>z</th>      <th>P>|z|</th>  <th>[0.025</th>    <th>0.975]</th>  \n",
       "</tr>\n",
       "<tr>\n",
       "  <th>ar.L1</th>  <td>    0.0867</td> <td>    0.329</td> <td>    0.263</td> <td> 0.792</td> <td>   -0.559</td> <td>    0.732</td>\n",
       "</tr>\n",
       "<tr>\n",
       "  <th>ar.L2</th>  <td>    0.7819</td> <td>    0.152</td> <td>    5.151</td> <td> 0.000</td> <td>    0.484</td> <td>    1.079</td>\n",
       "</tr>\n",
       "<tr>\n",
       "  <th>ma.L1</th>  <td>    0.1480</td> <td>   12.706</td> <td>    0.012</td> <td> 0.991</td> <td>  -24.756</td> <td>   25.052</td>\n",
       "</tr>\n",
       "<tr>\n",
       "  <th>ma.L2</th>  <td>   -0.8517</td> <td>   10.554</td> <td>   -0.081</td> <td> 0.936</td> <td>  -21.538</td> <td>   19.834</td>\n",
       "</tr>\n",
       "<tr>\n",
       "  <th>sigma2</th> <td> 5293.3487</td> <td> 6.58e+04</td> <td>    0.080</td> <td> 0.936</td> <td>-1.24e+05</td> <td> 1.34e+05</td>\n",
       "</tr>\n",
       "</table>\n",
       "<table class=\"simpletable\">\n",
       "<tr>\n",
       "  <th>Ljung-Box (L1) (Q):</th>     <td>0.24</td> <th>  Jarque-Bera (JB):  </th> <td>3.32</td>\n",
       "</tr>\n",
       "<tr>\n",
       "  <th>Prob(Q):</th>                <td>0.62</td> <th>  Prob(JB):          </th> <td>0.19</td>\n",
       "</tr>\n",
       "<tr>\n",
       "  <th>Heteroskedasticity (H):</th> <td>2.63</td> <th>  Skew:              </th> <td>0.15</td>\n",
       "</tr>\n",
       "<tr>\n",
       "  <th>Prob(H) (two-sided):</th>    <td>0.03</td> <th>  Kurtosis:          </th> <td>4.05</td>\n",
       "</tr>\n",
       "</table><br/><br/>Warnings:<br/>[1] Covariance matrix calculated using the outer product of gradients (complex-step)."
      ],
      "text/plain": [
       "<class 'statsmodels.iolib.summary.Summary'>\n",
       "\"\"\"\n",
       "                                      SARIMAX Results                                      \n",
       "===========================================================================================\n",
       "Dep. Variable:                           Adj_Close   No. Observations:                   80\n",
       "Model:             SARIMAX(2, 1, 2)x(0, 1, [], 12)   Log Likelihood                -383.327\n",
       "Date:                             Fri, 30 Jun 2023   AIC                            776.654\n",
       "Time:                                     14:37:42   BIC                            787.677\n",
       "Sample:                                 03-31-2000   HQIC                           781.016\n",
       "                                      - 12-31-2019                                         \n",
       "Covariance Type:                               opg                                         \n",
       "==============================================================================\n",
       "                 coef    std err          z      P>|z|      [0.025      0.975]\n",
       "------------------------------------------------------------------------------\n",
       "ar.L1          0.0867      0.329      0.263      0.792      -0.559       0.732\n",
       "ar.L2          0.7819      0.152      5.151      0.000       0.484       1.079\n",
       "ma.L1          0.1480     12.706      0.012      0.991     -24.756      25.052\n",
       "ma.L2         -0.8517     10.554     -0.081      0.936     -21.538      19.834\n",
       "sigma2      5293.3487   6.58e+04      0.080      0.936   -1.24e+05    1.34e+05\n",
       "===================================================================================\n",
       "Ljung-Box (L1) (Q):                   0.24   Jarque-Bera (JB):                 3.32\n",
       "Prob(Q):                              0.62   Prob(JB):                         0.19\n",
       "Heteroskedasticity (H):               2.63   Skew:                             0.15\n",
       "Prob(H) (two-sided):                  0.03   Kurtosis:                         4.05\n",
       "===================================================================================\n",
       "\n",
       "Warnings:\n",
       "[1] Covariance matrix calculated using the outer product of gradients (complex-step).\n",
       "\"\"\""
      ]
     },
     "execution_count": 58,
     "metadata": {},
     "output_type": "execute_result"
    }
   ],
   "source": [
    "# Spliting data into train / test sets\n",
    "train = df.iloc[:len(df)-12]\n",
    "test = df.iloc[len(df)-12:] # Taking one year(12 months) for testing\n",
    "  \n",
    "# Fitting SARIMAX(2, 1, 2)x(0, 1, 0, 12) on the training set\n",
    "from statsmodels.tsa.statespace.sarimax import SARIMAX #SARIMAX means Seasonal ARIMA with exogenous variables\n",
    "  \n",
    "model = SARIMAX(train['Adj_Close'], \n",
    "                order = (2, 1, 2), \n",
    "                seasonal_order =(0, 1, 0, 12))\n",
    "  \n",
    "result = model.fit()\n",
    "result.summary()"
   ]
  },
  {
   "cell_type": "markdown",
   "id": "83874ee2",
   "metadata": {},
   "source": [
    "**Predictions of ARIMA Model against the test set**"
   ]
  },
  {
   "cell_type": "code",
   "execution_count": 59,
   "id": "e7c34f33",
   "metadata": {
    "ExecuteTime": {
     "end_time": "2023-06-30T09:07:43.177747Z",
     "start_time": "2023-06-30T09:07:42.778419Z"
    }
   },
   "outputs": [
    {
     "data": {
      "text/plain": [
       "<AxesSubplot:xlabel='Date'>"
      ]
     },
     "execution_count": 59,
     "metadata": {},
     "output_type": "execute_result"
    },
    {
     "data": {
      "image/png": "[encoded data removed]",
      "text/plain": [
       "<Figure size 432x288 with 1 Axes>"
      ]
     },
     "metadata": {
      "needs_background": "light"
     },
     "output_type": "display_data"
    }
   ],
   "source": [
    "start = len(train)\n",
    "end = len(train) + len(test) - 1\n",
    "  \n",
    "# Predictions for one-year against the test set\n",
    "predictions = result.predict(start, end,\n",
    "                             typ = 'levels').rename(\"Predictions\")\n",
    "  \n",
    "# plot predictions and actual values\n",
    "predictions.plot(legend = True)\n",
    "test['Adj_Close'].plot(legend = True)"
   ]
  },
  {
   "cell_type": "markdown",
   "id": "7ce700a8",
   "metadata": {},
   "source": [
    "**Calculating the RMSE and MAPE Values for ARIMA Model**"
   ]
  },
  {
   "cell_type": "code",
   "execution_count": 60,
   "id": "40db5a75",
   "metadata": {
    "ExecuteTime": {
     "end_time": "2023-06-30T09:07:43.192973Z",
     "start_time": "2023-06-30T09:07:43.180884Z"
    }
   },
   "outputs": [
    {
     "name": "stdout",
     "output_type": "stream",
     "text": [
      "MAPE Value for ARIMA Model =  6.27907089874351\n",
      "RMSE Value for ARIMA Model =  148.84364295202732\n"
     ]
    }
   ],
   "source": [
    "rmse_ARIMA = RMSE(test.Adj_Close, predictions)\n",
    "mape_ARIMA = MAPE(predictions,test.Adj_Close)\n",
    "print(\"MAPE Value for ARIMA Model = \" ,mape_ARIMA)\n",
    "print(\"RMSE Value for ARIMA Model = \" ,rmse_ARIMA)"
   ]
  },
  {
   "cell_type": "markdown",
   "id": "2c88b437",
   "metadata": {},
   "source": [
    "**Comparing the All the results of Builded Models**"
   ]
  },
  {
   "cell_type": "code",
   "execution_count": 61,
   "id": "eaca477b",
   "metadata": {
    "ExecuteTime": {
     "end_time": "2023-06-30T09:07:43.223809Z",
     "start_time": "2023-06-30T09:07:43.195464Z"
    }
   },
   "outputs": [
    {
     "data": {
      "text/html": [
       "<div>\n",
       "<style scoped>\n",
       "    .dataframe tbody tr th:only-of-type {\n",
       "        vertical-align: middle;\n",
       "    }\n",
       "\n",
       "    .dataframe tbody tr th {\n",
       "        vertical-align: top;\n",
       "    }\n",
       "\n",
       "    .dataframe thead th {\n",
       "        text-align: right;\n",
       "    }\n",
       "</style>\n",
       "<table border=\"1\" class=\"dataframe\">\n",
       "  <thead>\n",
       "    <tr style=\"text-align: right;\">\n",
       "      <th></th>\n",
       "      <th>MODEL</th>\n",
       "      <th>MAPE_Values</th>\n",
       "      <th>RMSE_Values</th>\n",
       "    </tr>\n",
       "  </thead>\n",
       "  <tbody>\n",
       "    <tr>\n",
       "      <th>0</th>\n",
       "      <td>Arima_model</td>\n",
       "      <td>6.279071</td>\n",
       "      <td>148.843643</td>\n",
       "    </tr>\n",
       "    <tr>\n",
       "      <th>3</th>\n",
       "      <td>holtw_add_add_model</td>\n",
       "      <td>13.029693</td>\n",
       "      <td>343.705363</td>\n",
       "    </tr>\n",
       "    <tr>\n",
       "      <th>4</th>\n",
       "      <td>holtw_mult_add_model</td>\n",
       "      <td>19.205554</td>\n",
       "      <td>377.953315</td>\n",
       "    </tr>\n",
       "    <tr>\n",
       "      <th>1</th>\n",
       "      <td>holt_model</td>\n",
       "      <td>15.675039</td>\n",
       "      <td>428.600390</td>\n",
       "    </tr>\n",
       "    <tr>\n",
       "      <th>2</th>\n",
       "      <td>holt_winter_model</td>\n",
       "      <td>44.174789</td>\n",
       "      <td>1059.797141</td>\n",
       "    </tr>\n",
       "    <tr>\n",
       "      <th>0</th>\n",
       "      <td>linear_model</td>\n",
       "      <td>55.542131</td>\n",
       "      <td>1182.300174</td>\n",
       "    </tr>\n",
       "    <tr>\n",
       "      <th>2</th>\n",
       "      <td>quadratic_model</td>\n",
       "      <td>58.370974</td>\n",
       "      <td>1233.689130</td>\n",
       "    </tr>\n",
       "    <tr>\n",
       "      <th>0</th>\n",
       "      <td>ses_model</td>\n",
       "      <td>57.412700</td>\n",
       "      <td>1244.608396</td>\n",
       "    </tr>\n",
       "    <tr>\n",
       "      <th>3</th>\n",
       "      <td>additive_seasonality_model</td>\n",
       "      <td>80.311374</td>\n",
       "      <td>1579.996320</td>\n",
       "    </tr>\n",
       "    <tr>\n",
       "      <th>5</th>\n",
       "      <td>multiplicative_additive_model</td>\n",
       "      <td>99.543316</td>\n",
       "      <td>1872.236971</td>\n",
       "    </tr>\n",
       "    <tr>\n",
       "      <th>1</th>\n",
       "      <td>exponential_model</td>\n",
       "      <td>99.543520</td>\n",
       "      <td>1872.239146</td>\n",
       "    </tr>\n",
       "    <tr>\n",
       "      <th>4</th>\n",
       "      <td>multiplicative_seasonality_model</td>\n",
       "      <td>99.663027</td>\n",
       "      <td>1874.216976</td>\n",
       "    </tr>\n",
       "  </tbody>\n",
       "</table>\n",
       "</div>"
      ],
      "text/plain": [
       "                              MODEL  MAPE_Values  RMSE_Values\n",
       "0                       Arima_model     6.279071   148.843643\n",
       "3               holtw_add_add_model    13.029693   343.705363\n",
       "4              holtw_mult_add_model    19.205554   377.953315\n",
       "1                        holt_model    15.675039   428.600390\n",
       "2                 holt_winter_model    44.174789  1059.797141\n",
       "0                      linear_model    55.542131  1182.300174\n",
       "2                   quadratic_model    58.370974  1233.689130\n",
       "0                         ses_model    57.412700  1244.608396\n",
       "3        additive_seasonality_model    80.311374  1579.996320\n",
       "5     multiplicative_additive_model    99.543316  1872.236971\n",
       "1                 exponential_model    99.543520  1872.239146\n",
       "4  multiplicative_seasonality_model    99.663027  1874.216976"
      ]
     },
     "execution_count": 61,
     "metadata": {},
     "output_type": "execute_result"
    }
   ],
   "source": [
    "arima_result = pd.DataFrame({\n",
    "    \"MODEL\": [\"Arima_model\"],\n",
    "    \"MAPE_Values\": [mape_ARIMA],\n",
    "    \"RMSE_Values\": [rmse_ARIMA]})\n",
    "Results=Results.append(arima_result)\n",
    "Results.sort_values(['RMSE_Values','MAPE_Values'],ascending = [True, True])"
   ]
  },
  {
   "cell_type": "markdown",
   "id": "b9f76371",
   "metadata": {},
   "source": [
    "From the above results table we can see that **ARIMA Model** has gave the **least RMSE and MAPE Values** as **6.279088 & 148.843976**.<br> So we predict or Forcast the upcoming \n",
    "years Closing values of **Reliance Stock using the ARIMA Model**"
   ]
  },
  {
   "cell_type": "markdown",
   "id": "c85d0522",
   "metadata": {},
   "source": [
    "**Forecast using ARIMA Model**"
   ]
  },
  {
   "cell_type": "code",
   "execution_count": 62,
   "id": "19ecc68c",
   "metadata": {
    "ExecuteTime": {
     "end_time": "2023-06-30T09:07:44.132680Z",
     "start_time": "2023-06-30T09:07:43.226691Z"
    }
   },
   "outputs": [
    {
     "data": {
      "text/plain": [
       "<AxesSubplot:xlabel='Date'>"
      ]
     },
     "execution_count": 62,
     "metadata": {},
     "output_type": "execute_result"
    },
    {
     "data": {
      "image/png": "[encoded data removed]",
      "text/plain": [
       "<Figure size 864x360 with 1 Axes>"
      ]
     },
     "metadata": {
      "needs_background": "light"
     },
     "output_type": "display_data"
    }
   ],
   "source": [
    "# Train the model on the full dataset\n",
    "model = model = SARIMAX(df['Adj_Close'], \n",
    "                        order = (2, 1, 2), \n",
    "                        seasonal_order =(0, 1, 0, 12))\n",
    "result = model.fit()\n",
    "  \n",
    "# Forecast for the next 2 years\n",
    "forecast = result.predict(start = len(df), \n",
    "                          end = (len(df)-1) + 2 * 12, \n",
    "                          typ = 'levels').rename('Forecast')\n",
    "  \n",
    "# Plot the forecast values\n",
    "df['Adj_Close'].plot(figsize = (12, 5), legend = True)\n",
    "forecast.plot(legend = True)"
   ]
  },
  {
   "cell_type": "code",
   "execution_count": null,
   "id": "057f9467",
   "metadata": {},
   "outputs": [],
   "source": []
  }
 ],
 "metadata": {
  "kernelspec": {
   "display_name": "Python 3 (ipykernel)",
   "language": "python",
   "name": "python3"
  },
  "language_info": {
   "codemirror_mode": {
    "name": "ipython",
    "version": 3
   },
   "file_extension": ".py",
   "mimetype": "text/x-python",
   "name": "python",
   "nbconvert_exporter": "python",
   "pygments_lexer": "ipython3",
   "version": "3.9.7"
  }
 },
 "nbformat": 4,
 "nbformat_minor": 5
}
